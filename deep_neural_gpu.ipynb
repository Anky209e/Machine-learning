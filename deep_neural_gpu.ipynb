{
 "cells": [
  {
   "cell_type": "code",
   "execution_count": 1,
   "source": [
    "import torch\r\n",
    "import torchvision\r\n",
    "import numpy as np\r\n",
    "import matplotlib\r\n",
    "import matplotlib.pyplot as plt\r\n",
    "import torch.nn as nn\r\n",
    "import torch.nn.functional as F\r\n",
    "from torchvision.datasets import MNIST\r\n",
    "from torchvision.transforms import ToTensor\r\n",
    "from torchvision.utils import make_grid\r\n",
    "from torch.utils.data.dataloader import DataLoader\r\n",
    "from torch.utils.data import random_split\r\n",
    "\r\n",
    "# white background for matplotlib\r\n",
    "matplotlib.rcParams['figure.facecolor'] = '#ffff'"
   ],
   "outputs": [],
   "metadata": {}
  },
  {
   "cell_type": "code",
   "execution_count": 2,
   "source": [
    "dataset = MNIST(root='data/', download=True, transform= ToTensor())"
   ],
   "outputs": [
    {
     "output_type": "stream",
     "name": "stderr",
     "text": [
      "C:\\Users\\AnKy\\AppData\\Roaming\\Python\\Python39\\site-packages\\torchvision\\datasets\\mnist.py:498: UserWarning: The given NumPy array is not writeable, and PyTorch does not support non-writeable tensors. This means you can write to the underlying (supposedly non-writeable) NumPy array using the tensor. You may want to copy the array to protect its data or make it writeable before converting it to a tensor. This type of warning will be suppressed for the rest of this program. (Triggered internally at  ..\\torch\\csrc\\utils\\tensor_numpy.cpp:180.)\n",
      "  return torch.from_numpy(parsed.astype(m[2], copy=False)).view(*s)\n"
     ]
    }
   ],
   "metadata": {}
  },
  {
   "cell_type": "code",
   "execution_count": 3,
   "source": [
    "image, label = dataset[0]\r\n",
    "print(image.shape)\r\n",
    "print(label)"
   ],
   "outputs": [
    {
     "output_type": "stream",
     "name": "stdout",
     "text": [
      "torch.Size([1, 28, 28])\n",
      "5\n"
     ]
    }
   ],
   "metadata": {}
  },
  {
   "cell_type": "code",
   "execution_count": 4,
   "source": [
    "# creating validation set\r\n",
    "val_size = 10000\r\n",
    "train_size = len(dataset)-val_size\r\n",
    "train_ds, val_ds = random_split(dataset, [train_size, val_size])\r\n",
    "len(train_ds), len(val_ds)"
   ],
   "outputs": [
    {
     "output_type": "execute_result",
     "data": {
      "text/plain": [
       "(50000, 10000)"
      ]
     },
     "metadata": {},
     "execution_count": 4
    }
   ],
   "metadata": {}
  },
  {
   "cell_type": "code",
   "execution_count": 5,
   "source": [
    "# creating dataloader\r\n",
    "batch_size = 128\r\n",
    "train_loader = DataLoader(train_ds, batch_size, shuffle=True, num_workers=4, pin_memory=True)\r\n",
    "val_loader = DataLoader(val_ds, batch_size*2,num_workers=4,shuffle=True,pin_memory=True)"
   ],
   "outputs": [],
   "metadata": {}
  },
  {
   "cell_type": "markdown",
   "source": [
    "##Hidden Layers,Activation Functions and non-linearity"
   ],
   "metadata": {}
  },
  {
   "cell_type": "code",
   "execution_count": 6,
   "source": [
    "#reshaping\r\n",
    "for images, labels in train_loader:\r\n",
    "    print('images.shape: ',images.shape)\r\n",
    "    inputs = images.reshape(-1,784)\r\n",
    "    print('inputs.shape: ',inputs.shape)\r\n",
    "    break"
   ],
   "outputs": [
    {
     "output_type": "stream",
     "name": "stdout",
     "text": [
      "images.shape:  torch.Size([128, 1, 28, 28])\n",
      "inputs.shape:  torch.Size([128, 784])\n"
     ]
    }
   ],
   "metadata": {}
  },
  {
   "cell_type": "code",
   "execution_count": 7,
   "source": [
    "# creating hidden layer\r\n",
    "input_size = inputs.shape[-1]\r\n",
    "hidden_size = 32  #this is output size we can control it in hidden layer"
   ],
   "outputs": [],
   "metadata": {}
  },
  {
   "cell_type": "code",
   "execution_count": 8,
   "source": [
    "layer1 = nn.Linear(input_size, hidden_size)"
   ],
   "outputs": [],
   "metadata": {}
  },
  {
   "cell_type": "code",
   "execution_count": 9,
   "source": [
    "inputs.shape"
   ],
   "outputs": [
    {
     "output_type": "execute_result",
     "data": {
      "text/plain": [
       "torch.Size([128, 784])"
      ]
     },
     "metadata": {},
     "execution_count": 9
    }
   ],
   "metadata": {}
  },
  {
   "cell_type": "code",
   "execution_count": 10,
   "source": [
    "layer1_outputs = layer1(inputs)\r\n",
    "print(layer1_outputs.shape)"
   ],
   "outputs": [
    {
     "output_type": "stream",
     "name": "stdout",
     "text": [
      "torch.Size([128, 32])\n"
     ]
    }
   ],
   "metadata": {}
  },
  {
   "cell_type": "markdown",
   "source": [
    "We will use relu function here it changes all negative values of matrix to zero"
   ],
   "metadata": {}
  },
  {
   "cell_type": "code",
   "execution_count": 11,
   "source": [
    "relu_outputs = F.relu(layer1_outputs)\r\n",
    "print('min((layer1_outputs)): ', torch.min(layer1_outputs).item())\r\n",
    "\r\n",
    "print('min((relu_outputs)): ', torch.min(relu_outputs).item())"
   ],
   "outputs": [
    {
     "output_type": "stream",
     "name": "stdout",
     "text": [
      "min((layer1_outputs)):  -0.7301419973373413\n",
      "min((relu_outputs)):  0.0\n"
     ]
    }
   ],
   "metadata": {}
  },
  {
   "cell_type": "markdown",
   "source": [
    "we have 10 outputs so we will set output size in hidden layer"
   ],
   "metadata": {}
  },
  {
   "cell_type": "code",
   "execution_count": 12,
   "source": [
    "output_size = 10\r\n",
    "layer2 = nn.Linear(hidden_size, output_size)\r\n"
   ],
   "outputs": [],
   "metadata": {}
  },
  {
   "cell_type": "code",
   "execution_count": 13,
   "source": [
    "relu_outputs.shape"
   ],
   "outputs": [
    {
     "output_type": "execute_result",
     "data": {
      "text/plain": [
       "torch.Size([128, 32])"
      ]
     },
     "metadata": {},
     "execution_count": 13
    }
   ],
   "metadata": {}
  },
  {
   "cell_type": "code",
   "execution_count": 14,
   "source": [
    "layer2_outputs = layer2(relu_outputs)\r\n",
    "print(layer2_outputs.shape)"
   ],
   "outputs": [
    {
     "output_type": "stream",
     "name": "stdout",
     "text": [
      "torch.Size([128, 10])\n"
     ]
    }
   ],
   "metadata": {}
  },
  {
   "cell_type": "code",
   "execution_count": 18,
   "source": [
    "# define model\r\n",
    "class MnistModel(nn.Module):\r\n",
    "    def __init__(self,in_size, hidden_size, out_size):\r\n",
    "        super().__init__()\r\n",
    "        #hidden layer\r\n",
    "        self.linear1 = nn.Linear(in_size, hidden_size)\r\n",
    "        #output layer\r\n",
    "        self.linear2 = nn.Linear(hidden_size, output_size)\r\n",
    "\r\n",
    "    def forward(self,xb):\r\n",
    "        #flatting image tensor\r\n",
    "        xb = xb.view(xb.size(0), -1)\r\n",
    "        #hidden layers outputs\r\n",
    "        out = self.linear1(xb)\r\n",
    "        # applying relu\r\n",
    "        out = F.relu(out)\r\n",
    "        #predicting using output layer\r\n",
    "        out = self.linear2(out)\r\n",
    "\r\n",
    "        return out\r\n",
    "    \r\n",
    "    def training_step(self, batch):\r\n",
    "        images, labels = batch\r\n",
    "        out = self(images)\r\n",
    "        loss = F.cross_entropy(out, labels)\r\n",
    "        return loss\r\n",
    "\r\n",
    "    def validation_step(self, batch):\r\n",
    "        images, labels = batch\r\n",
    "        out = self(images)\r\n",
    "        loss = F.cross_entropy(out, labels)\r\n",
    "        acc = accuracy(out, labels)\r\n",
    "        return {'val_loss': loss, 'val_acc': acc}\r\n",
    "\r\n",
    "    def validation_epoch_end(self, outputs):\r\n",
    "        batch_losses = [x['val_loss'] for x in outputs]\r\n",
    "        epoch_loss = torch.stack(batch_losses).mean()\r\n",
    "        batch_accs = [x['val_acc'] for x in outputs]\r\n",
    "        epoch_acc = torch.stack(batch_accs).mean()\r\n",
    "        return {'val_loss': epoch_loss.item(),'val_acc':epoch_acc.item()}\r\n",
    "\r\n",
    "    def epoch_end(self, epoch, result):\r\n",
    "        print(\"Epoch[{}], val_loss: {:.4f}, val_acc: {:.4f}\".format(epoch, result['val_loss'], result['val_acc']))\r\n",
    "\r\n",
    "    \r\n"
   ],
   "outputs": [],
   "metadata": {}
  },
  {
   "cell_type": "code",
   "execution_count": 19,
   "source": [
    "def accuracy(outputs, labels):\r\n",
    "    _, preds = torch.max(outputs, dim =1)\r\n",
    "    return torch.tensor(torch.sum(preds == labels).item() / len(preds))"
   ],
   "outputs": [],
   "metadata": {}
  },
  {
   "cell_type": "code",
   "execution_count": 20,
   "source": [
    "input_size = 784\r\n",
    "hidden_size = 32\r\n",
    "num_classes = 10"
   ],
   "outputs": [],
   "metadata": {}
  },
  {
   "cell_type": "code",
   "execution_count": 21,
   "source": [
    "model = MnistModel(input_size, hidden_size=32, out_size=num_classes)"
   ],
   "outputs": [],
   "metadata": {}
  },
  {
   "cell_type": "code",
   "execution_count": 22,
   "source": [
    "model"
   ],
   "outputs": [
    {
     "output_type": "execute_result",
     "data": {
      "text/plain": [
       "MnistModel(\n",
       "  (linear1): Linear(in_features=784, out_features=32, bias=True)\n",
       "  (linear2): Linear(in_features=32, out_features=10, bias=True)\n",
       ")"
      ]
     },
     "metadata": {},
     "execution_count": 22
    }
   ],
   "metadata": {}
  },
  {
   "cell_type": "code",
   "execution_count": 23,
   "source": [
    "for t in model.parameters():\r\n",
    "    print(t.shape)"
   ],
   "outputs": [
    {
     "output_type": "stream",
     "name": "stdout",
     "text": [
      "torch.Size([32, 784])\n",
      "torch.Size([32])\n",
      "torch.Size([10, 32])\n",
      "torch.Size([10])\n"
     ]
    }
   ],
   "metadata": {}
  },
  {
   "cell_type": "code",
   "execution_count": 24,
   "source": [
    "for images, labels in train_loader:\r\n",
    "    outputs = model(images)\r\n",
    "    break\r\n",
    "loss = F.cross_entropy(outputs, labels)\r\n",
    "print('Loss: ',loss.item())\r\n",
    "print('outputs.shape: ',outputs.shape)\r\n",
    "print('sample outputs: \\n', outputs[:2].data)"
   ],
   "outputs": [
    {
     "output_type": "stream",
     "name": "stdout",
     "text": [
      "Loss:  2.322275161743164\n",
      "outputs.shape:  torch.Size([128, 10])\n",
      "sample outputs: \n",
      " tensor([[ 0.0204,  0.0554,  0.0515, -0.1801, -0.1064,  0.1073,  0.2186, -0.1572,\n",
      "          0.0581,  0.0196],\n",
      "        [-0.0304,  0.0107,  0.0095, -0.1721, -0.0504,  0.0988,  0.2342, -0.2487,\n",
      "          0.1504,  0.1246]])\n"
     ]
    }
   ],
   "metadata": {}
  },
  {
   "cell_type": "markdown",
   "source": [
    "Using a GPU"
   ],
   "metadata": {}
  },
  {
   "cell_type": "code",
   "execution_count": 26,
   "source": [
    "def  get_default_device():\r\n",
    "    if torch.cuda.is_available():\r\n",
    "        return torch.device('cuda')\r\n",
    "    else:\r\n",
    "        return torch.device('cpu')"
   ],
   "outputs": [],
   "metadata": {}
  },
  {
   "cell_type": "code",
   "execution_count": 27,
   "source": [
    "device = get_default_device()\r\n",
    "device"
   ],
   "outputs": [
    {
     "output_type": "execute_result",
     "data": {
      "text/plain": [
       "device(type='cuda')"
      ]
     },
     "metadata": {},
     "execution_count": 27
    }
   ],
   "metadata": {}
  },
  {
   "cell_type": "code",
   "execution_count": 28,
   "source": [
    "#moving data between gpu and cpu\r\n",
    "def to_device(data, device):\r\n",
    "    if isinstance(data,(list,tuple)):\r\n",
    "        return[to_device(x, device) for x in data]\r\n",
    "    return data.to(device, non_blocking = True)"
   ],
   "outputs": [],
   "metadata": {}
  },
  {
   "cell_type": "code",
   "execution_count": 31,
   "source": [
    "for images, labels in train_loader:\r\n",
    "    print(images.shape)\r\n",
    "    print('device-before: ',images.device)\r\n",
    "    images = to_device(images, device)\r\n",
    "    print('device-after: ',images.device)\r\n",
    "    break"
   ],
   "outputs": [
    {
     "output_type": "stream",
     "name": "stdout",
     "text": [
      "torch.Size([128, 1, 28, 28])\n",
      "device-before:  cpu\n",
      "device-after:  cuda:0\n"
     ]
    }
   ],
   "metadata": {}
  },
  {
   "cell_type": "code",
   "execution_count": 32,
   "source": [
    "class DeviceDataLoader():\r\n",
    "    \"\"\" wrap dataloader to move data to device\"\"\"\r\n",
    "    def __init__(self, dl , device):\r\n",
    "        self.dl = dl\r\n",
    "        self.device = device\r\n",
    "    \r\n",
    "    def __iter__(self):\r\n",
    "        \"\"\" yield a batch of data after moving it to device\"\"\"\r\n",
    "        for b in self.dl:\r\n",
    "            yield to_device(b, self.device)\r\n",
    "    \r\n",
    "    def __len__(self):\r\n",
    "        \"\"\" number of batches\"\"\"\r\n",
    "        return len(self.dl)"
   ],
   "outputs": [],
   "metadata": {}
  },
  {
   "cell_type": "code",
   "execution_count": 33,
   "source": [
    "train_loader = DeviceDataLoader(train_loader, device)\r\n",
    "val_loader = DeviceDataLoader(val_loader, device)"
   ],
   "outputs": [],
   "metadata": {}
  },
  {
   "cell_type": "code",
   "execution_count": 36,
   "source": [
    "#training model\r\n",
    "\r\n",
    "def evaluate(model, val_loader):\r\n",
    "    outputs = [model.validation_step(batch) for batch in val_loader]\r\n",
    "    return model.validation_epoch_end(outputs)\r\n",
    "\r\n",
    "def fit(epochs, lr, model, train_loader, val_loader, opt_func = torch.optim.SGD):\r\n",
    "    history = []\r\n",
    "    optimizer = opt_func(model.parameters(), lr)\r\n",
    "\r\n",
    "    for epoch in range(epochs):\r\n",
    "\r\n",
    "        for batch in train_loader:\r\n",
    "            loss = model.training_step(batch)\r\n",
    "            loss.backward()\r\n",
    "            optimizer.step()\r\n",
    "            optimizer.zero_grad()\r\n",
    "\r\n",
    "        result = evaluate(model, val_loader)\r\n",
    "        model.epoch_end(epoch, result)\r\n",
    "        history.append(result)\r\n",
    "    return history"
   ],
   "outputs": [],
   "metadata": {}
  },
  {
   "cell_type": "code",
   "execution_count": 39,
   "source": [
    "model = MnistModel(input_size, hidden_size=hidden_size, out_size=num_classes)\r\n",
    "to_device(model, device)"
   ],
   "outputs": [
    {
     "output_type": "execute_result",
     "data": {
      "text/plain": [
       "MnistModel(\n",
       "  (linear1): Linear(in_features=784, out_features=32, bias=True)\n",
       "  (linear2): Linear(in_features=32, out_features=10, bias=True)\n",
       ")"
      ]
     },
     "metadata": {},
     "execution_count": 39
    }
   ],
   "metadata": {}
  },
  {
   "cell_type": "code",
   "execution_count": 42,
   "source": [
    "history = [evaluate(model, val_loader)]\r\n",
    "history"
   ],
   "outputs": [
    {
     "output_type": "execute_result",
     "data": {
      "text/plain": [
       "[{'val_loss': 2.298090934753418, 'val_acc': 0.12880858778953552}]"
      ]
     },
     "metadata": {},
     "execution_count": 42
    }
   ],
   "metadata": {}
  },
  {
   "cell_type": "code",
   "execution_count": 43,
   "source": [
    "history += fit(5, 0.5, model, train_loader, val_loader)"
   ],
   "outputs": [
    {
     "output_type": "stream",
     "name": "stdout",
     "text": [
      "Epoch[0], val_loss: 0.2508, val_acc: 0.9244\n",
      "Epoch[1], val_loss: 0.1799, val_acc: 0.9438\n",
      "Epoch[2], val_loss: 0.1536, val_acc: 0.9524\n",
      "Epoch[3], val_loss: 0.1399, val_acc: 0.9544\n",
      "Epoch[4], val_loss: 0.1270, val_acc: 0.9602\n"
     ]
    }
   ],
   "metadata": {}
  },
  {
   "cell_type": "code",
   "execution_count": 44,
   "source": [
    "losses = [x['val_loss'] for x in history]\r\n",
    "plt.plot(losses, '-x')\r\n",
    "plt.xlabel('epoch')\r\n",
    "plt.ylabel('loss')\r\n",
    "plt.title('Loss VS No.of Epochs')\r\n",
    "\r\n"
   ],
   "outputs": [
    {
     "output_type": "execute_result",
     "data": {
      "text/plain": [
       "Text(0.5, 1.0, 'Loss VS No.of Epochs')"
      ]
     },
     "metadata": {},
     "execution_count": 44
    },
    {
     "output_type": "display_data",
     "data": {
      "text/plain": [
       "<Figure size 432x288 with 1 Axes>"
      ],
      "image/png": "[encoded data removed]"
     },
     "metadata": {}
    }
   ],
   "metadata": {}
  },
  {
   "cell_type": "code",
   "execution_count": 45,
   "source": [
    "test_dataset = MNIST(root='data/', train=False, transform=ToTensor())\r\n"
   ],
   "outputs": [],
   "metadata": {}
  },
  {
   "cell_type": "code",
   "execution_count": 46,
   "source": [
    "def predict_image(img, model):\r\n",
    "    xb = to_device(img.unsqueeze(0), device)\r\n",
    "    print(xb.device)\r\n",
    "    yb = model(xb)\r\n",
    "    _, preds = torch.max(yb, dim=1)\r\n",
    "\r\n",
    "    return preds[0].item()\r\n"
   ],
   "outputs": [],
   "metadata": {}
  },
  {
   "cell_type": "code",
   "execution_count": 47,
   "source": [
    "img, label = test_dataset[0]\r\n",
    "plt.imshow(img[0], cmap='gray')\r\n",
    "print('Label: ',label,',Predicted: ', predict_image(img,model))"
   ],
   "outputs": [
    {
     "output_type": "stream",
     "name": "stdout",
     "text": [
      "cuda:0\n",
      "Label:  7 ,Predicted:  7\n"
     ]
    },
    {
     "output_type": "display_data",
     "data": {
      "text/plain": [
       "<Figure size 432x288 with 1 Axes>"
      ],
      "image/png": "[encoded data removed]"
     },
     "metadata": {}
    }
   ],
   "metadata": {}
  },
  {
   "cell_type": "code",
   "execution_count": 48,
   "source": [
    "img, label = test_dataset[1839]\r\n",
    "plt.imshow(img[0], cmap='gray')\r\n",
    "print('Label: ',label,',Predicted: ', predict_image(img,model))"
   ],
   "outputs": [
    {
     "output_type": "stream",
     "name": "stdout",
     "text": [
      "cuda:0\n",
      "Label:  2 ,Predicted:  2\n"
     ]
    },
    {
     "output_type": "display_data",
     "data": {
      "text/plain": [
       "<Figure size 432x288 with 1 Axes>"
      ],
      "image/png": "[encoded data removed]"
     },
     "metadata": {}
    }
   ],
   "metadata": {}
  },
  {
   "cell_type": "code",
   "execution_count": 49,
   "source": [
    "img, label = test_dataset[193]\r\n",
    "plt.imshow(img[0], cmap='gray')\r\n",
    "print('Label: ',label,',Predicted: ', predict_image(img,model))"
   ],
   "outputs": [
    {
     "output_type": "stream",
     "name": "stdout",
     "text": [
      "cuda:0\n",
      "Label:  9 ,Predicted:  9\n"
     ]
    },
    {
     "output_type": "display_data",
     "data": {
      "text/plain": [
       "<Figure size 432x288 with 1 Axes>"
      ],
      "image/png": "[encoded data removed]"
     },
     "metadata": {}
    }
   ],
   "metadata": {}
  },
  {
   "cell_type": "code",
   "execution_count": 50,
   "source": [
    "img, label = test_dataset[200]\r\n",
    "plt.imshow(img[0], cmap='gray')\r\n",
    "print('Label: ',label,',Predicted: ', predict_image(img,model))"
   ],
   "outputs": [
    {
     "output_type": "stream",
     "name": "stdout",
     "text": [
      "cuda:0\n",
      "Label:  3 ,Predicted:  3\n"
     ]
    },
    {
     "output_type": "display_data",
     "data": {
      "text/plain": [
       "<Figure size 432x288 with 1 Axes>"
      ],
      "image/png": "[encoded data removed]"
     },
     "metadata": {}
    }
   ],
   "metadata": {}
  },
  {
   "cell_type": "code",
   "execution_count": 51,
   "source": [
    "img, label = test_dataset[267]\r\n",
    "plt.imshow(img[0], cmap='gray')\r\n",
    "print('Label: ',label,',Predicted: ', predict_image(img,model))"
   ],
   "outputs": [
    {
     "output_type": "stream",
     "name": "stdout",
     "text": [
      "cuda:0\n",
      "Label:  1 ,Predicted:  1\n"
     ]
    },
    {
     "output_type": "display_data",
     "data": {
      "text/plain": [
       "<Figure size 432x288 with 1 Axes>"
      ],
      "image/png": "[encoded data removed]"
     },
     "metadata": {}
    }
   ],
   "metadata": {}
  },
  {
   "cell_type": "code",
   "execution_count": null,
   "source": [],
   "outputs": [],
   "metadata": {}
  }
 ],
 "metadata": {
  "orig_nbformat": 4,
  "language_info": {
   "name": "python",
   "version": "3.9.6",
   "mimetype": "text/x-python",
   "codemirror_mode": {
    "name": "ipython",
    "version": 3
   },
   "pygments_lexer": "ipython3",
   "nbconvert_exporter": "python",
   "file_extension": ".py"
  },
  "kernelspec": {
   "name": "python3",
   "display_name": "Python 3.9.6 64-bit"
  },
  "interpreter": {
   "hash": "ac59ebe37160ed0dfa835113d9b8498d9f09ceb179beaac4002f036b9467c963"
  }
 },
 "nbformat": 4,
 "nbformat_minor": 2
}