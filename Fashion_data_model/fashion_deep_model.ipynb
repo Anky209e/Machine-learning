{
 "cells": [
  {
   "cell_type": "code",
   "execution_count": 1,
   "source": [
    "import torch\r\n",
    "import numpy as np\r\n",
    "import matplotlib.pyplot as plt\r\n",
    "import torchvision\r\n",
    "from torchvision.datasets import FashionMNIST\r\n",
    "import torch.nn as nn\r\n",
    "import torch.nn.functional as F\r\n",
    "from torchvision.transforms import ToTensor\r\n",
    "from torch.utils.data.dataloader import DataLoader\r\n",
    "from torch.utils.data import random_split"
   ],
   "outputs": [],
   "metadata": {}
  },
  {
   "cell_type": "code",
   "execution_count": 2,
   "source": [
    "# preparing the data\r\n",
    "dataset = FashionMNIST(root='data/', download=True, transform=ToTensor())\r\n",
    "test_dataset = FashionMNIST(root='data/', train= False, transform=ToTensor())"
   ],
   "outputs": [
    {
     "output_type": "stream",
     "name": "stdout",
     "text": [
      "Downloading http://fashion-mnist.s3-website.eu-central-1.amazonaws.com/train-images-idx3-ubyte.gz\n",
      "Downloading http://fashion-mnist.s3-website.eu-central-1.amazonaws.com/train-images-idx3-ubyte.gz to data/FashionMNIST\\raw\\train-images-idx3-ubyte.gz\n"
     ]
    },
    {
     "output_type": "stream",
     "name": "stderr",
     "text": [
      "100.0%\n"
     ]
    },
    {
     "output_type": "stream",
     "name": "stdout",
     "text": [
      "Extracting data/FashionMNIST\\raw\\train-images-idx3-ubyte.gz to data/FashionMNIST\\raw\n",
      "\n",
      "Downloading http://fashion-mnist.s3-website.eu-central-1.amazonaws.com/train-labels-idx1-ubyte.gz\n",
      "Downloading http://fashion-mnist.s3-website.eu-central-1.amazonaws.com/train-labels-idx1-ubyte.gz to data/FashionMNIST\\raw\\train-labels-idx1-ubyte.gz\n"
     ]
    },
    {
     "output_type": "stream",
     "name": "stderr",
     "text": [
      "100.6%\n"
     ]
    },
    {
     "output_type": "stream",
     "name": "stdout",
     "text": [
      "Extracting data/FashionMNIST\\raw\\train-labels-idx1-ubyte.gz to data/FashionMNIST\\raw\n",
      "\n",
      "Downloading http://fashion-mnist.s3-website.eu-central-1.amazonaws.com/t10k-images-idx3-ubyte.gz\n",
      "Downloading http://fashion-mnist.s3-website.eu-central-1.amazonaws.com/t10k-images-idx3-ubyte.gz to data/FashionMNIST\\raw\\t10k-images-idx3-ubyte.gz\n"
     ]
    },
    {
     "output_type": "stream",
     "name": "stderr",
     "text": [
      "100.0%\n"
     ]
    },
    {
     "output_type": "stream",
     "name": "stdout",
     "text": [
      "Extracting data/FashionMNIST\\raw\\t10k-images-idx3-ubyte.gz to data/FashionMNIST\\raw\n",
      "\n",
      "Downloading http://fashion-mnist.s3-website.eu-central-1.amazonaws.com/t10k-labels-idx1-ubyte.gz\n",
      "Downloading http://fashion-mnist.s3-website.eu-central-1.amazonaws.com/t10k-labels-idx1-ubyte.gz to data/FashionMNIST\\raw\\t10k-labels-idx1-ubyte.gz\n"
     ]
    },
    {
     "output_type": "stream",
     "name": "stderr",
     "text": [
      "119.3%"
     ]
    },
    {
     "output_type": "stream",
     "name": "stdout",
     "text": [
      "Extracting data/FashionMNIST\\raw\\t10k-labels-idx1-ubyte.gz to data/FashionMNIST\\raw\n",
      "\n"
     ]
    },
    {
     "output_type": "stream",
     "name": "stderr",
     "text": [
      "\n",
      "C:\\Users\\AnKy\\AppData\\Roaming\\Python\\Python39\\site-packages\\torchvision\\datasets\\mnist.py:498: UserWarning: The given NumPy array is not writeable, and PyTorch does not support non-writeable tensors. This means you can write to the underlying (supposedly non-writeable) NumPy array using the tensor. You may want to copy the array to protect its data or make it writeable before converting it to a tensor. This type of warning will be suppressed for the rest of this program. (Triggered internally at  ..\\torch\\csrc\\utils\\tensor_numpy.cpp:180.)\n",
      "  return torch.from_numpy(parsed.astype(m[2], copy=False)).view(*s)\n"
     ]
    }
   ],
   "metadata": {}
  },
  {
   "cell_type": "code",
   "execution_count": 3,
   "source": [
    "# preparing validation set by random_split\r\n",
    "val_size = 10000\r\n",
    "train_size = len(dataset)- val_size\r\n",
    "train_ds, val_ds = random_split(dataset,[train_size, val_size])\r\n",
    "len(train_ds), len(val_ds)"
   ],
   "outputs": [
    {
     "output_type": "execute_result",
     "data": {
      "text/plain": [
       "(50000, 10000)"
      ]
     },
     "metadata": {},
     "execution_count": 3
    }
   ],
   "metadata": {}
  },
  {
   "cell_type": "code",
   "execution_count": 4,
   "source": [
    "#creating dataloader\r\n",
    "batch_size =128\r\n",
    "train_loader = DataLoader(train_ds, batch_size,shuffle=True, num_workers=4, pin_memory=True,)\r\n",
    "val_loader = DataLoader(val_ds,batch_size*2, num_workers=4,pin_memory=True)\r\n",
    "test_loader = DataLoader(test_dataset,batch_size*2, num_workers=4, pin_memory=True)"
   ],
   "outputs": [],
   "metadata": {}
  },
  {
   "cell_type": "code",
   "execution_count": 5,
   "source": [
    "def accuracy(outputs, labels):\r\n",
    "    _, preds = torch.max(outputs, dim=1)\r\n",
    "    return torch.tensor(torch.sum(preds == labels).item()/ len(preds))"
   ],
   "outputs": [],
   "metadata": {}
  },
  {
   "cell_type": "code",
   "execution_count": 6,
   "source": [
    "class MnistModel(nn.Module):\r\n",
    "    def __init__(self, in_size, out_size):\r\n",
    "        super().__init__()\r\n",
    "        self.linear1 = nn.Linear(in_size, 16)\r\n",
    "        self.linear2 = nn.Linear(16,32)\r\n",
    "        self.linear3 = nn.Linear(32, out_size)\r\n",
    "\r\n",
    "    def forward(self, xb):\r\n",
    "        out = xb.view(xb.size(0), -1)\r\n",
    "        out = self.linear1(out)\r\n",
    "        out = F.relu(out)\r\n",
    "        out = self.linear2(out)\r\n",
    "        out = F.relu(out)\r\n",
    "        out = self.linear3(out)\r\n",
    "\r\n",
    "        return out\r\n",
    "     \r\n",
    "    def training_step(self, batch):\r\n",
    "        images, labels = batch \r\n",
    "        out = self(images)                  # Generate predictions\r\n",
    "        loss = F.cross_entropy(out, labels) # Calculate loss\r\n",
    "        return loss\r\n",
    "    \r\n",
    "    def validation_step(self, batch):\r\n",
    "        images, labels = batch \r\n",
    "        out = self(images)                    # Generate predictions\r\n",
    "        loss = F.cross_entropy(out, labels)   # Calculate loss\r\n",
    "        acc = accuracy(out, labels)           # Calculate accuracy\r\n",
    "        return {'val_loss': loss, 'val_acc': acc}\r\n",
    "        \r\n",
    "    def validation_epoch_end(self, outputs):\r\n",
    "        batch_losses = [x['val_loss'] for x in outputs]\r\n",
    "        epoch_loss = torch.stack(batch_losses).mean()   # Combine losses\r\n",
    "        batch_accs = [x['val_acc'] for x in outputs]\r\n",
    "        epoch_acc = torch.stack(batch_accs).mean()      # Combine accuracies\r\n",
    "        return {'val_loss': epoch_loss.item(), 'val_acc': epoch_acc.item()}\r\n",
    "    \r\n",
    "    def epoch_end(self, epoch, result):\r\n",
    "        print(\"Epoch [{}], val_loss: {:.4f}, val_acc: {:.4f}\".format(epoch, result['val_loss'], result['val_acc']))\r\n"
   ],
   "outputs": [],
   "metadata": {}
  },
  {
   "cell_type": "code",
   "execution_count": 7,
   "source": [
    "def get_default_device():\r\n",
    "    \"\"\"Pick GPU if available, else CPU\"\"\"\r\n",
    "    if torch.cuda.is_available():\r\n",
    "        return torch.device('cuda')\r\n",
    "    else:\r\n",
    "        return torch.device('cpu')"
   ],
   "outputs": [],
   "metadata": {}
  },
  {
   "cell_type": "code",
   "execution_count": 8,
   "source": [
    "device = get_default_device()\r\n",
    "device"
   ],
   "outputs": [
    {
     "output_type": "execute_result",
     "data": {
      "text/plain": [
       "device(type='cuda')"
      ]
     },
     "metadata": {},
     "execution_count": 8
    }
   ],
   "metadata": {}
  },
  {
   "cell_type": "code",
   "execution_count": 9,
   "source": [
    "def to_device(data, device):\r\n",
    "    \"\"\"Move tensor(s) to chosen device\"\"\"\r\n",
    "    if isinstance(data, (list,tuple)):\r\n",
    "        return [to_device(x, device) for x in data]\r\n",
    "    return data.to(device, non_blocking=True)"
   ],
   "outputs": [],
   "metadata": {}
  },
  {
   "cell_type": "code",
   "execution_count": 10,
   "source": [
    "class DeviceDataLoader():\r\n",
    "    \"\"\"Wrap a dataloader to move data to a device\"\"\"\r\n",
    "    def __init__(self, dl, device):\r\n",
    "        self.dl = dl\r\n",
    "        self.device = device\r\n",
    "        \r\n",
    "    def __iter__(self):\r\n",
    "        \"\"\"Yield a batch of data after moving it to device\"\"\"\r\n",
    "        for b in self.dl: \r\n",
    "            yield to_device(b, self.device)\r\n",
    "\r\n",
    "    def __len__(self):\r\n",
    "        \"\"\"Number of batches\"\"\"\r\n",
    "        return len(self.dl)"
   ],
   "outputs": [],
   "metadata": {}
  },
  {
   "cell_type": "code",
   "execution_count": 11,
   "source": [
    "train_loader = DeviceDataLoader(train_loader, device)\r\n",
    "val_loader = DeviceDataLoader(val_loader, device)\r\n",
    "test_loader = DeviceDataLoader(test_loader, device)"
   ],
   "outputs": [],
   "metadata": {}
  },
  {
   "cell_type": "code",
   "execution_count": 12,
   "source": [
    "def evaluate(model, val_loader):\r\n",
    "    outputs = [model.validation_step(batch) for batch in val_loader]\r\n",
    "    return model.validation_epoch_end(outputs)\r\n",
    "\r\n",
    "def fit(epochs, lr, model, train_loader, val_loader, opt_func=torch.optim.SGD):\r\n",
    "    history = []\r\n",
    "    optimizer = opt_func(model.parameters(), lr)\r\n",
    "    for epoch in range(epochs):\r\n",
    "        # Training Phase \r\n",
    "        for batch in train_loader:\r\n",
    "            loss = model.training_step(batch)\r\n",
    "            loss.backward()\r\n",
    "            optimizer.step()\r\n",
    "            optimizer.zero_grad()\r\n",
    "        # Validation phase\r\n",
    "        result = evaluate(model, val_loader)\r\n",
    "        model.epoch_end(epoch, result)\r\n",
    "        history.append(result)\r\n",
    "    return history"
   ],
   "outputs": [],
   "metadata": {}
  },
  {
   "cell_type": "code",
   "execution_count": 13,
   "source": [
    "input_size = 784\r\n",
    "num_classes = 10"
   ],
   "outputs": [],
   "metadata": {}
  },
  {
   "cell_type": "code",
   "execution_count": 14,
   "source": [
    "model = MnistModel(input_size, out_size=num_classes)\r\n",
    "to_device(model, device)"
   ],
   "outputs": [
    {
     "output_type": "execute_result",
     "data": {
      "text/plain": [
       "MnistModel(\n",
       "  (linear1): Linear(in_features=784, out_features=16, bias=True)\n",
       "  (linear2): Linear(in_features=16, out_features=32, bias=True)\n",
       "  (linear3): Linear(in_features=32, out_features=10, bias=True)\n",
       ")"
      ]
     },
     "metadata": {},
     "execution_count": 14
    }
   ],
   "metadata": {}
  },
  {
   "cell_type": "code",
   "execution_count": 15,
   "source": [
    "history = [evaluate(model, val_loader)]\r\n",
    "history"
   ],
   "outputs": [
    {
     "output_type": "execute_result",
     "data": {
      "text/plain": [
       "[{'val_loss': 2.314319372177124, 'val_acc': 0.09589843451976776}]"
      ]
     },
     "metadata": {},
     "execution_count": 15
    }
   ],
   "metadata": {}
  },
  {
   "cell_type": "code",
   "execution_count": 16,
   "source": [
    "history += fit(5, 0.5, model, train_loader, val_loader)"
   ],
   "outputs": [
    {
     "output_type": "stream",
     "name": "stdout",
     "text": [
      "Epoch [0], val_loss: 1.4058, val_acc: 0.5762\n",
      "Epoch [1], val_loss: 0.6775, val_acc: 0.7121\n",
      "Epoch [2], val_loss: 0.5850, val_acc: 0.7538\n",
      "Epoch [3], val_loss: 0.5621, val_acc: 0.7716\n",
      "Epoch [4], val_loss: 0.5378, val_acc: 0.7926\n"
     ]
    }
   ],
   "metadata": {}
  },
  {
   "cell_type": "code",
   "execution_count": 19,
   "source": [
    "history += fit(5, 0.1, model, train_loader, val_loader)"
   ],
   "outputs": [
    {
     "output_type": "stream",
     "name": "stdout",
     "text": [
      "Epoch [0], val_loss: 0.4177, val_acc: 0.8510\n",
      "Epoch [1], val_loss: 0.4093, val_acc: 0.8519\n",
      "Epoch [2], val_loss: 0.4132, val_acc: 0.8486\n",
      "Epoch [3], val_loss: 0.4083, val_acc: 0.8520\n",
      "Epoch [4], val_loss: 0.4026, val_acc: 0.8536\n"
     ]
    }
   ],
   "metadata": {}
  },
  {
   "cell_type": "code",
   "execution_count": 20,
   "source": [
    "losses = [x['val_loss'] for x in history]\r\n",
    "plt.plot(losses, '-x')\r\n",
    "plt.xlabel('epoch')\r\n",
    "plt.ylabel('loss')\r\n",
    "plt.title('Loss vs. No. of epochs');"
   ],
   "outputs": [
    {
     "output_type": "display_data",
     "data": {
      "text/plain": [
       "<Figure size 432x288 with 1 Axes>"
      ],
      "image/png": "[encoded data removed]"
     },
     "metadata": {
      "needs_background": "light"
     }
    }
   ],
   "metadata": {}
  },
  {
   "cell_type": "code",
   "execution_count": 21,
   "source": [
    "def predict_image(img, model):\r\n",
    "    xb = to_device(img.unsqueeze(0), device)\r\n",
    "    yb = model(xb)\r\n",
    "    _, preds  = torch.max(yb, dim=1)\r\n",
    "    return preds[0].item()"
   ],
   "outputs": [],
   "metadata": {}
  },
  {
   "cell_type": "code",
   "execution_count": 25,
   "source": [
    "img, label = test_dataset[500]\r\n",
    "plt.imshow(img[0], cmap='gray')\r\n",
    "print('Label:', dataset.classes[label], ', Predicted:', dataset.classes[predict_image(img, model)])"
   ],
   "outputs": [
    {
     "output_type": "stream",
     "name": "stdout",
     "text": [
      "Label: Pullover , Predicted: Pullover\n"
     ]
    },
    {
     "output_type": "display_data",
     "data": {
      "text/plain": [
       "<Figure size 432x288 with 1 Axes>"
      ],
      "image/png": "[encoded data removed]"
     },
     "metadata": {
      "needs_background": "light"
     }
    }
   ],
   "metadata": {}
  },
  {
   "cell_type": "code",
   "execution_count": 26,
   "source": [
    "evaluate(model, test_loader)"
   ],
   "outputs": [
    {
     "output_type": "execute_result",
     "data": {
      "text/plain": [
       "{'val_loss': 0.4389859735965729, 'val_acc': 0.842968761920929}"
      ]
     },
     "metadata": {},
     "execution_count": 26
    }
   ],
   "metadata": {}
  },
  {
   "cell_type": "code",
   "execution_count": null,
   "source": [
    "torch.save(model.state_dict(), 'fashion-feed.pth')"
   ],
   "outputs": [],
   "metadata": {}
  }
 ],
 "metadata": {
  "orig_nbformat": 4,
  "language_info": {
   "name": "python",
   "version": "3.9.6",
   "mimetype": "text/x-python",
   "codemirror_mode": {
    "name": "ipython",
    "version": 3
   },
   "pygments_lexer": "ipython3",
   "nbconvert_exporter": "python",
   "file_extension": ".py"
  },
  "kernelspec": {
   "name": "python3",
   "display_name": "Python 3.9.6 64-bit"
  },
  "interpreter": {
   "hash": "ac59ebe37160ed0dfa835113d9b8498d9f09ceb179beaac4002f036b9467c963"
  }
 },
 "nbformat": 4,
 "nbformat_minor": 2
}