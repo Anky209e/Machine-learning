{
 "cells": [
  {
   "cell_type": "code",
   "execution_count": 132,
   "source": [
    "import torch\r\n",
    "from torchvision.transforms import ToTensor\r\n",
    "import matplotlib.pyplot as plt\r\n",
    "import torch.nn as nn\r\n",
    "import torch.nn.functional as F\r\n",
    "from torch.utils.data.dataloader import DataLoader\r\n",
    "from torchvision.datasets import FashionMNIST"
   ],
   "outputs": [],
   "metadata": {}
  },
  {
   "cell_type": "code",
   "execution_count": 133,
   "source": [
    "train_dataset = FashionMNIST(root= 'data/', download=True, train=True,transform=ToTensor())\r\n",
    "test_dataset = FashionMNIST(root='data/', train=False,transform=ToTensor())\r\n",
    "len(train_dataset),len(test_dataset)"
   ],
   "outputs": [
    {
     "output_type": "execute_result",
     "data": {
      "text/plain": [
       "(60000, 10000)"
      ]
     },
     "metadata": {},
     "execution_count": 133
    }
   ],
   "metadata": {}
  },
  {
   "cell_type": "code",
   "execution_count": 134,
   "source": [
    "batch_size = 60"
   ],
   "outputs": [],
   "metadata": {}
  },
  {
   "cell_type": "code",
   "execution_count": 135,
   "source": [
    "# dataloader\r\n",
    "train_loader = DataLoader(train_dataset,batch_size, shuffle=True,num_workers=2,pin_memory=True)\r\n",
    "test_loader = DataLoader(test_dataset,batch_size, pin_memory=True)"
   ],
   "outputs": [],
   "metadata": {}
  },
  {
   "cell_type": "code",
   "execution_count": 136,
   "source": [
    "class FashionNeural(nn.Module):\r\n",
    "    def __init__(self,in_size,hidden_size,num_classes):\r\n",
    "        super().__init__()\r\n",
    "        self.linear1 = nn.Linear(in_size,hidden_size)\r\n",
    "        self.relu = nn.ReLU()\r\n",
    "        self.linear2 = nn.Linear(hidden_size,num_classes)\r\n",
    "\r\n",
    "    def forward(self,x):\r\n",
    "        out = self.linear1(x)\r\n",
    "        out = self.relu(out)\r\n",
    "        out = self.linear2(out)\r\n",
    "        return out"
   ],
   "outputs": [],
   "metadata": {}
  },
  {
   "cell_type": "code",
   "execution_count": 137,
   "source": [
    "input_size = 28*28\r\n",
    "hidden_size = 32\r\n",
    "num_classes = 10"
   ],
   "outputs": [],
   "metadata": {}
  },
  {
   "cell_type": "code",
   "execution_count": 138,
   "source": [
    "model = FashionNeural(input_size,hidden_size=hidden_size,num_classes=num_classes)\r\n",
    "model"
   ],
   "outputs": [
    {
     "output_type": "execute_result",
     "data": {
      "text/plain": [
       "FashionNeural(\n",
       "  (linear1): Linear(in_features=784, out_features=32, bias=True)\n",
       "  (relu): ReLU()\n",
       "  (linear2): Linear(in_features=32, out_features=10, bias=True)\n",
       ")"
      ]
     },
     "metadata": {},
     "execution_count": 138
    }
   ],
   "metadata": {}
  },
  {
   "cell_type": "code",
   "execution_count": 139,
   "source": [
    "optimizer = torch.optim.Adam(model.parameters(),lr=0.01)"
   ],
   "outputs": [],
   "metadata": {}
  },
  {
   "cell_type": "code",
   "execution_count": 140,
   "source": [
    "device = torch.device('cuda' if torch.cuda.is_available else 'cpu')"
   ],
   "outputs": [],
   "metadata": {}
  },
  {
   "cell_type": "code",
   "execution_count": 141,
   "source": [
    "num_epochs = 5\r\n",
    "\r\n",
    "for epochs in range(num_epochs):\r\n",
    "\r\n",
    "    for images, labels in train_loader:\r\n",
    "        \r\n",
    "        images = images.reshape(-1,28*28)\r\n",
    "        out = model(images)\r\n",
    "        loss = F.cross_entropy(out,labels)\r\n",
    "\r\n",
    "        optimizer.zero_grad()\r\n",
    "        loss.backward()\r\n",
    "        optimizer.step()\r\n",
    "    if(epochs+1)%1== 0:\r\n",
    "        print(f'Epochs:[{epochs}]. Loss:{loss.item()}')\r\n",
    "        "
   ],
   "outputs": [
    {
     "output_type": "stream",
     "name": "stdout",
     "text": [
      "Epochs:[0]. Loss:0.662214457988739\n",
      "Epochs:[1]. Loss:0.3435382544994354\n",
      "Epochs:[2]. Loss:0.3292246460914612\n",
      "Epochs:[3]. Loss:0.4294424057006836\n",
      "Epochs:[4]. Loss:0.4036397635936737\n"
     ]
    }
   ],
   "metadata": {}
  },
  {
   "cell_type": "code",
   "execution_count": 142,
   "source": [
    "with torch.no_grad():\r\n",
    "    n_samples = 0\r\n",
    "    n_correct = 0\r\n",
    "    for images,labels in test_loader:\r\n",
    "        images = images.reshape(-1,28*28)\r\n",
    "        outputs = model(images)\r\n",
    "\r\n",
    "        _, preds = torch.max(outputs, 1)\r\n",
    "\r\n",
    "        n_samples += labels.shape[0]\r\n",
    "        n_correct += (preds == labels).sum().item()\r\n",
    "    \r\n",
    "acc = (n_correct/n_samples)*100\r\n",
    "print(f'Accuracy: {acc}')"
   ],
   "outputs": [
    {
     "output_type": "stream",
     "name": "stdout",
     "text": [
      "Accuracy: 84.31\n"
     ]
    }
   ],
   "metadata": {}
  },
  {
   "cell_type": "code",
   "execution_count": 147,
   "source": [
    "def predict(img,model):\r\n",
    "    xb = img.unsqueeze(0)\r\n",
    "    xb = xb.reshape(-1,784)\r\n",
    "    yb = model(xb)\r\n",
    "    _,predicts = torch.max(yb, dim=1)\r\n",
    "    return predicts[0].item()"
   ],
   "outputs": [],
   "metadata": {}
  },
  {
   "cell_type": "code",
   "execution_count": 149,
   "source": [
    "img, label = test_dataset[323]\r\n",
    "plt.imshow(img[0], cmap='gray')\r\n",
    "print('Label:', train_dataset.classes[label], ', Predicted:', train_dataset.classes[predict(img, model)])"
   ],
   "outputs": [
    {
     "output_type": "stream",
     "name": "stdout",
     "text": [
      "Label: T-shirt/top , Predicted: Dress\n"
     ]
    },
    {
     "output_type": "display_data",
     "data": {
      "text/plain": [
       "<Figure size 432x288 with 1 Axes>"
      ],
      "image/png": "[encoded data removed]"
     },
     "metadata": {
      "needs_background": "light"
     }
    }
   ],
   "metadata": {}
  },
  {
   "cell_type": "code",
   "execution_count": null,
   "source": [],
   "outputs": [],
   "metadata": {}
  }
 ],
 "metadata": {
  "orig_nbformat": 4,
  "language_info": {
   "name": "python",
   "version": "3.9.6",
   "mimetype": "text/x-python",
   "codemirror_mode": {
    "name": "ipython",
    "version": 3
   },
   "pygments_lexer": "ipython3",
   "nbconvert_exporter": "python",
   "file_extension": ".py"
  },
  "kernelspec": {
   "name": "python3",
   "display_name": "Python 3.9.6 64-bit"
  },
  "interpreter": {
   "hash": "ac59ebe37160ed0dfa835113d9b8498d9f09ceb179beaac4002f036b9467c963"
  }
 },
 "nbformat": 4,
 "nbformat_minor": 2
}