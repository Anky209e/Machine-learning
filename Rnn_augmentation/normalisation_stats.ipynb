{
 "cells": [
  {
   "cell_type": "code",
   "execution_count": 2,
   "source": [
    "from torchvision.datasets import ImageFolder\r\n",
    "from torchvision.transforms import ToTensor\r\n",
    "import numpy as np\r\n"
   ],
   "outputs": [],
   "metadata": {}
  },
  {
   "cell_type": "code",
   "execution_count": 6,
   "source": [
    "\r\n",
    "def stats(root):\r\n",
    "    train_ds = ImageFolder(root,ToTensor())\r\n",
    "    \r\n",
    "    r_arr =[]\r\n",
    "    g_arr =[]\r\n",
    "    b_arr =[]\r\n",
    "\r\n",
    "    for image,label in train_ds:\r\n",
    "        r_img,g_img,b_img = image\r\n",
    "        \r\n",
    "        r_arr.append(np.array(r_img))\r\n",
    "        g_arr.append(np.array(g_img))\r\n",
    "        b_arr.append(np.array(b_img))\r\n",
    "\r\n",
    "    r_arr = np.array(r_arr)\r\n",
    "    g_arr = np.array(g_arr)\r\n",
    "    b_arr = np.array(b_arr)\r\n",
    "    \r\n",
    "    r_avg = r_arr.mean()\r\n",
    "    g_avg = g_arr.mean()\r\n",
    "    b_avg = b_arr.mean()\r\n",
    "\r\n",
    "    mean_tup = (round(r_avg,4), round(g_avg,4), round(b_avg,4))\r\n",
    "    print(\"||Mean||\")\r\n",
    "    print(mean_tup)\r\n",
    "    print(\"||STD||\")\r\n",
    "    r_dev = np.std(r_arr)\r\n",
    "    g_dev = np.std(g_arr)\r\n",
    "    b_dev = np.std(b_arr)\r\n",
    "\r\n",
    "    dev_tup = (round(r_dev,4), round(g_dev,4), round(b_dev,4))\r\n",
    "    print(dev_tup)"
   ],
   "outputs": [],
   "metadata": {}
  },
  {
   "cell_type": "code",
   "execution_count": 7,
   "source": [
    "stats(r'C:\\Programming\\Machine-learning\\gender_detection_cnn\\gender_data\\train')"
   ],
   "outputs": [
    {
     "output_type": "stream",
     "name": "stdout",
     "text": [
      "||Mean||\n",
      "(0.6525, 0.4831, 0.405)\n",
      "||STD||\n",
      "(0.2351, 0.2073, 0.1984)\n"
     ]
    }
   ],
   "metadata": {}
  }
 ],
 "metadata": {
  "orig_nbformat": 4,
  "language_info": {
   "name": "python",
   "version": "3.9.6",
   "mimetype": "text/x-python",
   "codemirror_mode": {
    "name": "ipython",
    "version": 3
   },
   "pygments_lexer": "ipython3",
   "nbconvert_exporter": "python",
   "file_extension": ".py"
  },
  "kernelspec": {
   "name": "python3",
   "display_name": "Python 3.9.6 64-bit"
  },
  "interpreter": {
   "hash": "ac59ebe37160ed0dfa835113d9b8498d9f09ceb179beaac4002f036b9467c963"
  }
 },
 "nbformat": 4,
 "nbformat_minor": 2
}