{
 "cells": [
  {
   "cell_type": "code",
   "execution_count": 35,
   "source": [
    "import torch\r\n",
    "import pandas as pd\r\n",
    "import torch.nn as nn\r\n",
    "import numpy as np\r\n",
    "\r\n",
    "\r\n",
    "\r\n",
    "import torch.nn as nn\r\n",
    "from sklearn.model_selection import train_test_split\r\n",
    "from sklearn.preprocessing import StandardScaler"
   ],
   "outputs": [],
   "metadata": {}
  },
  {
   "cell_type": "code",
   "execution_count": 36,
   "source": [
    "inputs = pd.read_csv('heart.csv')\r\n",
    "targets = inputs.pop('target')\r\n",
    "\r\n",
    "inputs = np.array(inputs)\r\n",
    "targets = np.array(targets)\r\n",
    "\r\n",
    "print(inputs)\r\n",
    "print(targets)"
   ],
   "outputs": [
    {
     "output_type": "stream",
     "name": "stdout",
     "text": [
      "[[63.  1.  3. ...  0.  0.  1.]\n",
      " [37.  1.  2. ...  0.  0.  2.]\n",
      " [41.  0.  1. ...  2.  0.  2.]\n",
      " ...\n",
      " [68.  1.  0. ...  1.  2.  3.]\n",
      " [57.  1.  0. ...  1.  1.  3.]\n",
      " [57.  0.  1. ...  1.  1.  2.]]\n",
      "[1 1 1 1 1 1 1 1 1 1 1 1 1 1 1 1 1 1 1 1 1 1 1 1 1 1 1 1 1 1 1 1 1 1 1 1 1\n",
      " 1 1 1 1 1 1 1 1 1 1 1 1 1 1 1 1 1 1 1 1 1 1 1 1 1 1 1 1 1 1 1 1 1 1 1 1 1\n",
      " 1 1 1 1 1 1 1 1 1 1 1 1 1 1 1 1 1 1 1 1 1 1 1 1 1 1 1 1 1 1 1 1 1 1 1 1 1\n",
      " 1 1 1 1 1 1 1 1 1 1 1 1 1 1 1 1 1 1 1 1 1 1 1 1 1 1 1 1 1 1 1 1 1 1 1 1 1\n",
      " 1 1 1 1 1 1 1 1 1 1 1 1 1 1 1 1 1 0 0 0 0 0 0 0 0 0 0 0 0 0 0 0 0 0 0 0 0\n",
      " 0 0 0 0 0 0 0 0 0 0 0 0 0 0 0 0 0 0 0 0 0 0 0 0 0 0 0 0 0 0 0 0 0 0 0 0 0\n",
      " 0 0 0 0 0 0 0 0 0 0 0 0 0 0 0 0 0 0 0 0 0 0 0 0 0 0 0 0 0 0 0 0 0 0 0 0 0\n",
      " 0 0 0 0 0 0 0 0 0 0 0 0 0 0 0 0 0 0 0 0 0 0 0 0 0 0 0 0 0 0 0 0 0 0 0 0 0\n",
      " 0 0 0 0 0 0 0]\n"
     ]
    }
   ],
   "metadata": {}
  },
  {
   "cell_type": "code",
   "execution_count": 37,
   "source": [
    "no_samples,no_features = inputs.shape\r\n",
    "no_features"
   ],
   "outputs": [
    {
     "output_type": "execute_result",
     "data": {
      "text/plain": [
       "13"
      ]
     },
     "metadata": {},
     "execution_count": 37
    }
   ],
   "metadata": {}
  },
  {
   "cell_type": "code",
   "execution_count": 38,
   "source": [
    "inputs_train,inputs_test,targets_train,targets_test = train_test_split(inputs, targets, test_size=0.33)"
   ],
   "outputs": [],
   "metadata": {}
  },
  {
   "cell_type": "code",
   "execution_count": 39,
   "source": [
    "# scaling data\r\n",
    "inputs_train = StandardScaler().fit_transform(inputs_train)\r\n",
    "inputs_test = StandardScaler().fit_transform(inputs_test)\r\n"
   ],
   "outputs": [],
   "metadata": {}
  },
  {
   "cell_type": "code",
   "execution_count": 40,
   "source": [
    "inputs_train = torch.from_numpy(inputs_train.astype(np.float32))\r\n",
    "inputs_test = torch.from_numpy(inputs_test.astype(np.float32))\r\n",
    "targets_train = torch.from_numpy(targets_train.astype(np.float32))\r\n",
    "targets_test = torch.from_numpy(targets_test.astype(np.float32))"
   ],
   "outputs": [],
   "metadata": {}
  },
  {
   "cell_type": "code",
   "execution_count": null,
   "source": [],
   "outputs": [],
   "metadata": {}
  },
  {
   "cell_type": "code",
   "execution_count": 41,
   "source": [
    "targets_train = targets_train.reshape(-1,1)\r\n",
    "targets_test = targets_test.reshape(-1,1)\r\n",
    "\r\n",
    "targets_train.shape"
   ],
   "outputs": [
    {
     "output_type": "execute_result",
     "data": {
      "text/plain": [
       "torch.Size([203, 1])"
      ]
     },
     "metadata": {},
     "execution_count": 41
    }
   ],
   "metadata": {}
  },
  {
   "cell_type": "code",
   "execution_count": 42,
   "source": [
    "class LogisticRegression(nn.Module):\r\n",
    "    def __init__(self):\r\n",
    "        super(LogisticRegression, self).__init__()\r\n",
    "        self.linear = nn.Linear(13,1)\r\n",
    "\r\n",
    "    def forward(self, targets_train ):\r\n",
    "        out = self.linear(targets_train)\r\n",
    "        targets_preds = torch.sigmoid(out)\r\n",
    "        return targets_preds\r\n",
    "\r\n",
    "   \r\n",
    "\r\n",
    "\r\n",
    "\r\n",
    "model = LogisticRegression()\r\n",
    "        \r\n",
    "    "
   ],
   "outputs": [],
   "metadata": {}
  },
  {
   "cell_type": "code",
   "execution_count": 43,
   "source": [
    "model"
   ],
   "outputs": [
    {
     "output_type": "execute_result",
     "data": {
      "text/plain": [
       "LogisticRegression(\n",
       "  (linear): Linear(in_features=13, out_features=1, bias=True)\n",
       ")"
      ]
     },
     "metadata": {},
     "execution_count": 43
    }
   ],
   "metadata": {}
  },
  {
   "cell_type": "code",
   "execution_count": 44,
   "source": [
    "loss_fn = nn.BCELoss()\r\n",
    "optimizer = torch.optim.SGD(model.parameters(), lr=0.01)\r\n"
   ],
   "outputs": [],
   "metadata": {}
  },
  {
   "cell_type": "code",
   "execution_count": 45,
   "source": [
    "num_epochs = 300"
   ],
   "outputs": [],
   "metadata": {}
  },
  {
   "cell_type": "code",
   "execution_count": null,
   "source": [
    "for epoch in range(num_epochs):\r\n",
    "    targets_preds = model(inputs_train)\r\n",
    "    loss = loss_fn(targets_preds,targets_train)\r\n",
    "\r\n",
    "    loss.backward()\r\n",
    "\r\n",
    "    optimizer.step()\r\n",
    "    optimizer.zero_grad()\r\n",
    "\r\n",
    "    \r\n",
    "    \r\n",
    "\r\n",
    "    if(epoch+1)%10 == 0:\r\n",
    "        with torch.no_grad():\r\n",
    "            targets_preds = model(inputs_test)\r\n",
    "            targets_preds_cls = targets_preds.round()\r\n",
    "            acc = targets_preds_cls.eq(targets_test).sum() / float(inputs_test.shape[0])\r\n",
    "        \r\n",
    "            print(f'Epoch: {epoch+1}, Loss: {loss.item():.4f}, ACC: {acc*100}')"
   ],
   "outputs": [
    {
     "output_type": "stream",
     "name": "stdout",
     "text": [
      "Epoch: 10, Loss: 0.6757, ACC: 63.0\n",
      "Epoch: 20, Loss: 0.6498, ACC: 61.0\n",
      "Epoch: 30, Loss: 0.6267, ACC: 64.0\n",
      "Epoch: 40, Loss: 0.6063, ACC: 68.0\n",
      "Epoch: 50, Loss: 0.5880, ACC: 71.0\n",
      "Epoch: 60, Loss: 0.5718, ACC: 74.0\n",
      "Epoch: 70, Loss: 0.5572, ACC: 75.0\n",
      "Epoch: 80, Loss: 0.5441, ACC: 75.0\n",
      "Epoch: 90, Loss: 0.5322, ACC: 75.0\n",
      "Epoch: 100, Loss: 0.5216, ACC: 77.0\n",
      "Epoch: 110, Loss: 0.5119, ACC: 78.0\n",
      "Epoch: 120, Loss: 0.5031, ACC: 81.0\n",
      "Epoch: 130, Loss: 0.4951, ACC: 81.0\n",
      "Epoch: 140, Loss: 0.4878, ACC: 82.0\n",
      "Epoch: 150, Loss: 0.4812, ACC: 82.0\n",
      "Epoch: 160, Loss: 0.4750, ACC: 82.0\n",
      "Epoch: 170, Loss: 0.4694, ACC: 84.0\n",
      "Epoch: 180, Loss: 0.4642, ACC: 83.0\n",
      "Epoch: 190, Loss: 0.4594, ACC: 84.0\n",
      "Epoch: 200, Loss: 0.4549, ACC: 84.0\n",
      "Epoch: 210, Loss: 0.4508, ACC: 84.0\n",
      "Epoch: 220, Loss: 0.4470, ACC: 84.0\n",
      "Epoch: 230, Loss: 0.4434, ACC: 84.0\n",
      "Epoch: 240, Loss: 0.4401, ACC: 85.0\n",
      "Epoch: 250, Loss: 0.4370, ACC: 85.0\n",
      "Epoch: 260, Loss: 0.4341, ACC: 85.0\n",
      "Epoch: 270, Loss: 0.4314, ACC: 85.0\n",
      "Epoch: 280, Loss: 0.4289, ACC: 85.0\n",
      "Epoch: 290, Loss: 0.4265, ACC: 85.0\n",
      "Epoch: 300, Loss: 0.4242, ACC: 85.0\n"
     ]
    }
   ],
   "metadata": {}
  },
  {
   "cell_type": "code",
   "execution_count": 46,
   "source": [],
   "outputs": [],
   "metadata": {}
  }
 ],
 "metadata": {
  "orig_nbformat": 4,
  "language_info": {
   "name": "python",
   "version": "3.9.6",
   "mimetype": "text/x-python",
   "codemirror_mode": {
    "name": "ipython",
    "version": 3
   },
   "pygments_lexer": "ipython3",
   "nbconvert_exporter": "python",
   "file_extension": ".py"
  },
  "kernelspec": {
   "name": "python3",
   "display_name": "Python 3.9.6 64-bit"
  },
  "interpreter": {
   "hash": "ac59ebe37160ed0dfa835113d9b8498d9f09ceb179beaac4002f036b9467c963"
  }
 },
 "nbformat": 4,
 "nbformat_minor": 2
}