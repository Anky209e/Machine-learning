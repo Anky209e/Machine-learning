{
  "cells": [
    {
      "cell_type": "code",
      "execution_count": null,
      "metadata": {
        "id": "K9NnGrEn_ne7"
      },
      "outputs": [],
      "source": [
        "import torch, gc\n",
        "import os\n",
        "import torchvision\n",
        "from zipfile import ZipFile\n",
        "import torch.nn as nn\n",
        "import numpy as np\n",
        "import torch.nn.functional as F\n",
        "from torchvision.datasets import ImageFolder\n",
        "from torch.utils.data import DataLoader\n",
        "import torchvision.transforms as tt\n",
        "from torch.utils.data import random_split\n",
        "from torchvision.utils import make_grid\n",
        "import matplotlib\n",
        "from torchvision.datasets.utils import download_url\n",
        "import matplotlib.pyplot as plt"
      ]
    },
    {
      "cell_type": "code",
      "execution_count": null,
      "metadata": {
        "colab": {
          "base_uri": "https://localhost:8080/"
        },
        "id": "FN6ohO24_nfA",
        "outputId": "33a5b650-7aa3-4268-e32e-644abea546ff"
      },
      "outputs": [
        {
          "name": "stdout",
          "output_type": "stream",
          "text": [
            "Mounted at /content/drive\n"
          ]
        }
      ],
      "source": [
        "# from google.colab import drive\n",
        "# drive.mount('/content/drive')"
      ]
    },
    {
      "cell_type": "code",
      "execution_count": null,
      "metadata": {
        "id": "TeoYTuvO_nfB"
      },
      "outputs": [],
      "source": [
        "# g_path = '/content/drive/MyDrive/gender_data.zip'\n",
        "# with ZipFile(g_path,'r') as zip:\n",
        "#     zip.extractall(path='/')"
      ]
    },
    {
      "cell_type": "code",
      "execution_count": null,
      "metadata": {
        "id": "52c55Jmy_nfB"
      },
      "outputs": [],
      "source": [
        "dir_path = '/gender_data'"
      ]
    },
    {
      "cell_type": "code",
      "execution_count": null,
      "metadata": {
        "id": "6quJAaOa_nfC"
      },
      "outputs": [],
      "source": [
        "stats = ((0.6525, 0.4831, 0.405),(0.2351, 0.2073, 0.1984))"
      ]
    },
    {
      "cell_type": "code",
      "execution_count": null,
      "metadata": {
        "id": "za_YHlE__nfC"
      },
      "outputs": [],
      "source": [
        "train_tfms = tt.Compose([tt.RandomHorizontalFlip(),\n",
        "                        # tt.Grayscale(),\n",
        "                        tt.ColorJitter(brightness=0.3,contrast=0.2,saturation=0.1,hue=0.2),\n",
        "                        tt.ToTensor(),\n",
        "                        tt.Normalize(*stats,inplace=True)])\n",
        "test_tfms = tt.Compose([tt.ToTensor(),tt.Normalize(*stats)])\n"
      ]
    },
    {
      "cell_type": "code",
      "execution_count": null,
      "metadata": {
        "colab": {
          "base_uri": "https://localhost:8080/"
        },
        "id": "j08hmqLv_nfC",
        "outputId": "453a20e8-92fa-43fc-8473-60aed13e40eb"
      },
      "outputs": [
        {
          "data": {
            "text/plain": [
              "(46400, 11600)"
            ]
          },
          "execution_count": 7,
          "metadata": {},
          "output_type": "execute_result"
        }
      ],
      "source": [
        "train_ds = ImageFolder(dir_path+'/train',train_tfms)\n",
        "test_ds = ImageFolder(dir_path+'/test',test_tfms)\n",
        "len(train_ds),len(test_ds)"
      ]
    },
    {
      "cell_type": "code",
      "execution_count": null,
      "metadata": {
        "id": "CuEdZ-Yp_nfE"
      },
      "outputs": [],
      "source": [
        "batch_size = 64"
      ]
    },
    {
      "cell_type": "code",
      "execution_count": null,
      "metadata": {
        "colab": {
          "base_uri": "https://localhost:8080/"
        },
        "id": "MnroHIPV_nfE",
        "outputId": "4291c188-fec5-4807-fc4a-6d698fcba4f0"
      },
      "outputs": [
        {
          "name": "stderr",
          "output_type": "stream",
          "text": [
            "/usr/local/lib/python3.7/dist-packages/torch/utils/data/dataloader.py:481: UserWarning: This DataLoader will create 3 worker processes in total. Our suggested max number of worker in current system is 2, which is smaller than what this DataLoader is going to create. Please be aware that excessive worker creation might get DataLoader running slow or even freeze, lower the worker number to avoid potential slowness/freeze if necessary.\n",
            "  cpuset_checked))\n"
          ]
        }
      ],
      "source": [
        "train_dl = DataLoader(train_ds,batch_size,shuffle=True,num_workers=3,pin_memory=True)\n",
        "test_dl = DataLoader(test_ds,batch_size*2,num_workers=3,pin_memory=True)"
      ]
    },
    {
      "cell_type": "code",
      "execution_count": null,
      "metadata": {
        "id": "ltYtt6ld_nfF"
      },
      "outputs": [],
      "source": [
        "def denormalize(images,means,stds):\n",
        "    means = torch.tensor(means).reshape(1,3,1,1)\n",
        "    stds = torch.tensor(stds).reshape(1,3,1,1)\n",
        "    return images*stds+means"
      ]
    },
    {
      "cell_type": "code",
      "execution_count": null,
      "metadata": {
        "colab": {
          "base_uri": "https://localhost:8080/"
        },
        "id": "MygGq7Tp_nfF",
        "outputId": "86532e4b-4f10-4e02-f746-db002ecf1d68"
      },
      "outputs": [
        {
          "name": "stderr",
          "output_type": "stream",
          "text": [
            "/usr/local/lib/python3.7/dist-packages/torch/utils/data/dataloader.py:481: UserWarning: This DataLoader will create 3 worker processes in total. Our suggested max number of worker in current system is 2, which is smaller than what this DataLoader is going to create. Please be aware that excessive worker creation might get DataLoader running slow or even freeze, lower the worker number to avoid potential slowness/freeze if necessary.\n",
            "  cpuset_checked))\n"
          ]
        },
        {
          "name": "stdout",
          "output_type": "stream",
          "text": [
            "torch.Size([64, 3, 64, 64])\n"
          ]
        }
      ],
      "source": [
        "for images,labels in train_dl:\n",
        "    print(images.shape)\n",
        "    break"
      ]
    },
    {
      "cell_type": "code",
      "execution_count": null,
      "metadata": {
        "colab": {
          "base_uri": "https://localhost:8080/"
        },
        "id": "qmpfYX_b_nfG",
        "outputId": "defcb745-7844-430f-c740-6209b4ba492a"
      },
      "outputs": [
        {
          "data": {
            "text/plain": [
              "device(type='cuda')"
            ]
          },
          "execution_count": 12,
          "metadata": {},
          "output_type": "execute_result"
        }
      ],
      "source": [
        "device = torch.device('cuda' if torch.cuda.is_available() else 'cpu')\n",
        "device"
      ]
    },
    {
      "cell_type": "code",
      "execution_count": null,
      "metadata": {
        "id": "i_Henaqw_nfG"
      },
      "outputs": [],
      "source": [
        "class Resnet(nn.Module):\n",
        "    def __init__(self,):\n",
        "        super().__init__()\n",
        "        #3x64x64\n",
        "        self.conv15 = nn.Conv2d(3,15,kernel_size=3,stride=1,padding=1)#15x64x64\n",
        "        self.norm15 = nn.BatchNorm2d(15)\n",
        "        self.relu15 = nn.ReLU()\n",
        "        self.conv30 = nn.Conv2d(15,30,kernel_size=3,stride=1,padding=1)#30x64x64\n",
        "        self.norm30 = nn.BatchNorm2d(30)\n",
        "        self.relu30 = nn.ReLU()\n",
        "        self.pool1 = nn.MaxPool2d(2,2)\n",
        "\n",
        "        self.res1 = nn.Conv2d(30,30,kernel_size=3,stride=1,padding=1)#30x32x32\n",
        "\n",
        "        self.conv30b = nn.Conv2d(30,30,kernel_size=3,padding=1,stride=1)#30x32x32\n",
        "        self.relu30b = nn.ReLU()\n",
        "        self.conv60 = nn.Conv2d(30,60,kernel_size=3,stride=1,padding=1)#60x32x32\n",
        "        self.norm60 = nn.BatchNorm2d(60)\n",
        "        self.relu60 = nn.ReLU()\n",
        "        self.conv120 = nn.Conv2d(60,120,kernel_size=3,stride=1,padding=1)#120x32x32\n",
        "        self.norm120 = nn.BatchNorm2d(120)\n",
        "        self.relu120 = nn.ReLU()\n",
        "        self.pool2 = nn.MaxPool2d(2,2)\n",
        "\n",
        "        self.res2 = nn.Conv2d(120,120,kernel_size=3,padding=1,stride=1)#120x16x16\n",
        "\n",
        "        self.conv120b = nn.Conv2d(120,120,kernel_size=3,padding=1,stride=1)#120x16x16\n",
        "        self.relu120b = nn.ReLU()\n",
        "        self.conv200 = nn.Conv2d(120,200,kernel_size=3,padding=1,stride=1)#200x16x16\n",
        "        self.norm200 = nn.BatchNorm2d(200)\n",
        "        self.relu200 = nn.ReLU()\n",
        "        self.conv360 = nn.Conv2d(200,360,kernel_size=3,padding=1,stride=1)#360x16x16\n",
        "        self.norm360 = nn.BatchNorm2d(360)\n",
        "        self.relu360 = nn.ReLU()\n",
        "        self.conv512 = nn.Conv2d(360,512,kernel_size=3,padding=1,stride=1)#512x16x16\n",
        "        self.norm512 = nn.BatchNorm2d(512)\n",
        "        self.relu512 = nn.ReLU()\n",
        "        self.pool3 = nn.MaxPool2d(2,2)#512x8x8\n",
        "\n",
        "        self.avgpool1 = nn.AvgPool2d(2,2)#512x4x4\n",
        "        self.avgpool2 = nn.AvgPool2d(2,2)#512x2x2\n",
        "\n",
        "        self.flat = nn.Flatten()\n",
        "\n",
        "        self.linear = nn.Linear(512,2)\n",
        "\n",
        "    def forward(self,data):\n",
        "        out = self.conv15(data)\n",
        "        out = self.norm15(out)\n",
        "        out = self.relu15(out)\n",
        "        out = self.conv30(out)\n",
        "        out = self.norm30(out)\n",
        "        out = self.relu30(out)\n",
        "        out = self.pool1(out)\n",
        "\n",
        "        out = self.res1(out)\n",
        "\n",
        "        out = self.conv30b(out)+out\n",
        "        out = self.relu30b(out)\n",
        "        out = self.conv60(out)\n",
        "        out = self.norm60(out)\n",
        "        out = self.relu60(out)\n",
        "        out = self.conv120(out)\n",
        "        out = self.norm120(out)\n",
        "        out = self.relu120(out)\n",
        "        out = self.pool2(out)\n",
        "\n",
        "        out = self.res2(out)\n",
        "\n",
        "        out = self.conv120b(out)+out\n",
        "        out = self.relu120b(out)\n",
        "        out = self.conv200(out)\n",
        "        out = self.norm200(out)\n",
        "        out = self.relu200(out)\n",
        "        out = self.conv360(out)\n",
        "        out = self.norm360(out)\n",
        "        out = self.relu360(out)\n",
        "        out = self.conv512(out)\n",
        "        out = self.norm512(out)\n",
        "        out = self.relu512(out)\n",
        "        out = self.pool3(out)\n",
        "\n",
        "        out = self.avgpool1(out)\n",
        "        out = self.avgpool2(out)\n",
        "        out = self.avgpool2(out)\n",
        "\n",
        "        out = self.flat(out)\n",
        "        out = self.linear(out)\n",
        "\n",
        "        return out\n"
      ]
    },
    {
      "cell_type": "code",
      "execution_count": null,
      "metadata": {
        "colab": {
          "base_uri": "https://localhost:8080/"
        },
        "id": "r-Z5q7lS_nfH",
        "outputId": "188318a6-f858-4883-b02f-9adbf787e2be"
      },
      "outputs": [
        {
          "data": {
            "text/plain": [
              "Resnet(\n",
              "  (conv15): Conv2d(3, 15, kernel_size=(3, 3), stride=(1, 1), padding=(1, 1))\n",
              "  (norm15): BatchNorm2d(15, eps=1e-05, momentum=0.1, affine=True, track_running_stats=True)\n",
              "  (relu15): ReLU()\n",
              "  (conv30): Conv2d(15, 30, kernel_size=(3, 3), stride=(1, 1), padding=(1, 1))\n",
              "  (norm30): BatchNorm2d(30, eps=1e-05, momentum=0.1, affine=True, track_running_stats=True)\n",
              "  (relu30): ReLU()\n",
              "  (pool1): MaxPool2d(kernel_size=2, stride=2, padding=0, dilation=1, ceil_mode=False)\n",
              "  (res1): Conv2d(30, 30, kernel_size=(3, 3), stride=(1, 1), padding=(1, 1))\n",
              "  (conv30b): Conv2d(30, 30, kernel_size=(3, 3), stride=(1, 1), padding=(1, 1))\n",
              "  (relu30b): ReLU()\n",
              "  (conv60): Conv2d(30, 60, kernel_size=(3, 3), stride=(1, 1), padding=(1, 1))\n",
              "  (norm60): BatchNorm2d(60, eps=1e-05, momentum=0.1, affine=True, track_running_stats=True)\n",
              "  (relu60): ReLU()\n",
              "  (conv120): Conv2d(60, 120, kernel_size=(3, 3), stride=(1, 1), padding=(1, 1))\n",
              "  (norm120): BatchNorm2d(120, eps=1e-05, momentum=0.1, affine=True, track_running_stats=True)\n",
              "  (relu120): ReLU()\n",
              "  (pool2): MaxPool2d(kernel_size=2, stride=2, padding=0, dilation=1, ceil_mode=False)\n",
              "  (res2): Conv2d(120, 120, kernel_size=(3, 3), stride=(1, 1), padding=(1, 1))\n",
              "  (conv120b): Conv2d(120, 120, kernel_size=(3, 3), stride=(1, 1), padding=(1, 1))\n",
              "  (relu120b): ReLU()\n",
              "  (conv200): Conv2d(120, 200, kernel_size=(3, 3), stride=(1, 1), padding=(1, 1))\n",
              "  (norm200): BatchNorm2d(200, eps=1e-05, momentum=0.1, affine=True, track_running_stats=True)\n",
              "  (relu200): ReLU()\n",
              "  (conv360): Conv2d(200, 360, kernel_size=(3, 3), stride=(1, 1), padding=(1, 1))\n",
              "  (norm360): BatchNorm2d(360, eps=1e-05, momentum=0.1, affine=True, track_running_stats=True)\n",
              "  (relu360): ReLU()\n",
              "  (conv512): Conv2d(360, 512, kernel_size=(3, 3), stride=(1, 1), padding=(1, 1))\n",
              "  (norm512): BatchNorm2d(512, eps=1e-05, momentum=0.1, affine=True, track_running_stats=True)\n",
              "  (relu512): ReLU()\n",
              "  (pool3): MaxPool2d(kernel_size=2, stride=2, padding=0, dilation=1, ceil_mode=False)\n",
              "  (avgpool1): AvgPool2d(kernel_size=2, stride=2, padding=0)\n",
              "  (avgpool2): AvgPool2d(kernel_size=2, stride=2, padding=0)\n",
              "  (flat): Flatten(start_dim=1, end_dim=-1)\n",
              "  (linear): Linear(in_features=512, out_features=2, bias=True)\n",
              ")"
            ]
          },
          "execution_count": 38,
          "metadata": {},
          "output_type": "execute_result"
        }
      ],
      "source": [
        "model = Resnet()\n",
        "model.to(device)"
      ]
    },
    {
      "cell_type": "code",
      "execution_count": null,
      "metadata": {
        "id": "dPo2pg04_nfI"
      },
      "outputs": [],
      "source": [
        "from fastai.basic_data import DataBunch\n",
        "from fastai.train import Learner\n",
        "from fastai.metrics import accuracy"
      ]
    },
    {
      "cell_type": "code",
      "execution_count": null,
      "metadata": {
        "id": "i3qkps03B4nh"
      },
      "outputs": [],
      "source": [
        "data = DataBunch.create(train_ds,test_ds,bs=batch_size,path='/')\n",
        "learner = Learner(data,model,loss_func=F.cross_entropy,metrics=[accuracy])\n",
        "learner.clip = 0.1"
      ]
    },
    {
      "cell_type": "code",
      "execution_count": null,
      "metadata": {
        "colab": {
          "base_uri": "https://localhost:8080/",
          "height": 374
        },
        "id": "g4W03Pg0CZEf",
        "outputId": "eb8296b8-2f80-4748-88ad-c912c24525d2"
      },
      "outputs": [
        {
          "data": {
            "text/html": [
              "\n",
              "    <div>\n",
              "        <style>\n",
              "            /* Turns off some styling */\n",
              "            progress {\n",
              "                /* gets rid of default border in Firefox and Opera. */\n",
              "                border: none;\n",
              "                /* Needs to be in here for Safari polyfill so background images work as expected. */\n",
              "                background-size: auto;\n",
              "            }\n",
              "            .progress-bar-interrupted, .progress-bar-interrupted::-webkit-progress-bar {\n",
              "                background: #F44336;\n",
              "            }\n",
              "        </style>\n",
              "      <progress value='0' class='' max='1' style='width:300px; height:20px; vertical-align: middle;'></progress>\n",
              "      0.00% [0/1 00:00<00:00]\n",
              "    </div>\n",
              "    \n",
              "<table border=\"1\" class=\"dataframe\">\n",
              "  <thead>\n",
              "    <tr style=\"text-align: left;\">\n",
              "      <th>epoch</th>\n",
              "      <th>train_loss</th>\n",
              "      <th>valid_loss</th>\n",
              "      <th>accuracy</th>\n",
              "      <th>time</th>\n",
              "    </tr>\n",
              "  </thead>\n",
              "  <tbody>\n",
              "  </tbody>\n",
              "</table><p>\n",
              "\n",
              "    <div>\n",
              "        <style>\n",
              "            /* Turns off some styling */\n",
              "            progress {\n",
              "                /* gets rid of default border in Firefox and Opera. */\n",
              "                border: none;\n",
              "                /* Needs to be in here for Safari polyfill so background images work as expected. */\n",
              "                background-size: auto;\n",
              "            }\n",
              "            .progress-bar-interrupted, .progress-bar-interrupted::-webkit-progress-bar {\n",
              "                background: #F44336;\n",
              "            }\n",
              "        </style>\n",
              "      <progress value='99' class='' max='725' style='width:300px; height:20px; vertical-align: middle;'></progress>\n",
              "      13.66% [99/725 00:15<01:37 0.9163]\n",
              "    </div>\n",
              "    "
            ],
            "text/plain": [
              "<IPython.core.display.HTML object>"
            ]
          },
          "metadata": {},
          "output_type": "display_data"
        },
        {
          "name": "stdout",
          "output_type": "stream",
          "text": [
            "LR Finder is complete, type {learner_name}.recorder.plot() to see the graph.\n"
          ]
        },
        {
          "data": {
            "image/png": "[encoded data removed]",
            "text/plain": [
              "<Figure size 432x288 with 1 Axes>"
            ]
          },
          "metadata": {
            "needs_background": "light"
          },
          "output_type": "display_data"
        }
      ],
      "source": [
        "learner.lr_find()\n",
        "learner.recorder.plot()"
      ]
    },
    {
      "cell_type": "code",
      "execution_count": null,
      "metadata": {
        "colab": {
          "base_uri": "https://localhost:8080/",
          "height": 326
        },
        "id": "sk6UvkCLEAUX",
        "outputId": "97ba352e-724b-4b7e-d934-b5343b8d8599"
      },
      "outputs": [
        {
          "data": {
            "text/html": [
              "<table border=\"1\" class=\"dataframe\">\n",
              "  <thead>\n",
              "    <tr style=\"text-align: left;\">\n",
              "      <th>epoch</th>\n",
              "      <th>train_loss</th>\n",
              "      <th>valid_loss</th>\n",
              "      <th>accuracy</th>\n",
              "      <th>time</th>\n",
              "    </tr>\n",
              "  </thead>\n",
              "  <tbody>\n",
              "    <tr>\n",
              "      <td>0</td>\n",
              "      <td>0.112128</td>\n",
              "      <td>0.099688</td>\n",
              "      <td>0.962672</td>\n",
              "      <td>02:02</td>\n",
              "    </tr>\n",
              "    <tr>\n",
              "      <td>1</td>\n",
              "      <td>0.126191</td>\n",
              "      <td>0.100791</td>\n",
              "      <td>0.965172</td>\n",
              "      <td>02:01</td>\n",
              "    </tr>\n",
              "    <tr>\n",
              "      <td>2</td>\n",
              "      <td>0.125522</td>\n",
              "      <td>0.138115</td>\n",
              "      <td>0.955862</td>\n",
              "      <td>02:01</td>\n",
              "    </tr>\n",
              "    <tr>\n",
              "      <td>3</td>\n",
              "      <td>0.130525</td>\n",
              "      <td>0.165351</td>\n",
              "      <td>0.930603</td>\n",
              "      <td>02:01</td>\n",
              "    </tr>\n",
              "    <tr>\n",
              "      <td>4</td>\n",
              "      <td>0.108373</td>\n",
              "      <td>0.095442</td>\n",
              "      <td>0.967845</td>\n",
              "      <td>02:01</td>\n",
              "    </tr>\n",
              "    <tr>\n",
              "      <td>5</td>\n",
              "      <td>0.092516</td>\n",
              "      <td>0.103964</td>\n",
              "      <td>0.966293</td>\n",
              "      <td>02:01</td>\n",
              "    </tr>\n",
              "    <tr>\n",
              "      <td>6</td>\n",
              "      <td>0.084670</td>\n",
              "      <td>0.076320</td>\n",
              "      <td>0.973621</td>\n",
              "      <td>02:01</td>\n",
              "    </tr>\n",
              "    <tr>\n",
              "      <td>7</td>\n",
              "      <td>0.082096</td>\n",
              "      <td>0.074461</td>\n",
              "      <td>0.975603</td>\n",
              "      <td>02:01</td>\n",
              "    </tr>\n",
              "    <tr>\n",
              "      <td>8</td>\n",
              "      <td>0.075955</td>\n",
              "      <td>0.071907</td>\n",
              "      <td>0.975517</td>\n",
              "      <td>02:01</td>\n",
              "    </tr>\n",
              "  </tbody>\n",
              "</table>"
            ],
            "text/plain": [
              "<IPython.core.display.HTML object>"
            ]
          },
          "metadata": {},
          "output_type": "display_data"
        }
      ],
      "source": [
        "learner.fit_one_cycle(9,1e-2,wd=1e-2)"
      ]
    },
    {
      "cell_type": "code",
      "execution_count": null,
      "metadata": {
        "id": "faApli5sEhpW"
      },
      "outputs": [],
      "source": [
        "def test(img,model):\n",
        "  first_im = img.unsqueeze(0).to(device)\n",
        "  \n",
        "  output = model(first_im)\n",
        "  _,pred = torch.max(output,dim=1)\n",
        "  return pred[0].item()"
      ]
    },
    {
      "cell_type": "code",
      "execution_count": null,
      "metadata": {
        "colab": {
          "base_uri": "https://localhost:8080/",
          "height": 285
        },
        "id": "v-AsY9LFFNEe",
        "outputId": "ae4968a0-e060-47d8-9ae1-eef9d4c1853c"
      },
      "outputs": [
        {
          "name": "stdout",
          "output_type": "stream",
          "text": [
            "Label female ,Predicted: female\n"
          ]
        },
        {
          "data": {
            "image/png": "[encoded data removed]",
            "text/plain": [
              "<Figure size 432x288 with 1 Axes>"
            ]
          },
          "metadata": {
            "needs_background": "light"
          },
          "output_type": "display_data"
        }
      ],
      "source": [
        "img,label = test_ds[1211]\n",
        "plt.imshow(img[0])\n",
        "print('Label',train_ds.classes[label],',Predicted:',train_ds.classes[test(img,model)])"
      ]
    },
    {
      "cell_type": "code",
      "execution_count": null,
      "metadata": {
        "id": "5EWdfmVuGiG8"
      },
      "outputs": [],
      "source": [
        "torch.save(model.state_dict(), '/content/drive/MyDrive/gender_detect_rnn97.pth')"
      ]
    },
    {
      "cell_type": "code",
      "execution_count": null,
      "metadata": {
        "id": "tqDrszg-KGAq"
      },
      "outputs": [],
      "source": [
        "from PIL import Image\n",
        "from torchvision import transforms"
      ]
    },
    {
      "cell_type": "code",
      "execution_count": null,
      "metadata": {
        "id": "R9TKt6SPIybL"
      },
      "outputs": [],
      "source": [
        "def predicter(root):\n",
        "  model = Resnet()\n",
        "  model.load_state_dict(torch.load('/content/drive/MyDrive/gender_detect_rnn97.pth'))\n",
        "  model.to(device)\n",
        "  model.eval()\n",
        "  img = Image.open(root)\n",
        "  img = img.resize((64,64))\n",
        "  trans = transforms.ToTensor()\n",
        "  tens_img = trans(img)\n",
        "  last_img = tens_img.unsqueeze(0).to(device)\n",
        "  \n",
        "  output = model(last_img)\n",
        "  _,pred = torch.max(output,dim=1)\n",
        "  return pred[0].item()\n",
        "\n"
      ]
    },
    {
      "cell_type": "code",
      "execution_count": null,
      "metadata": {
        "colab": {
          "base_uri": "https://localhost:8080/",
          "height": 285
        },
        "id": "13_97lVTLLIy",
        "outputId": "56f3853f-78c5-4983-9353-4f5a0db6edd1"
      },
      "outputs": [
        {
          "name": "stdout",
          "output_type": "stream",
          "text": [
            "Predicted: female\n"
          ]
        },
        {
          "data": {
            "image/png": "[encoded data removed]",
            "text/plain": [
              "<Figure size 432x288 with 1 Axes>"
            ]
          },
          "metadata": {
            "needs_background": "light"
          },
          "output_type": "display_data"
        }
      ],
      "source": [
        "root = '/content/drive/MyDrive/anky1.jpg'\n",
        "image = Image.open(root)\n",
        "image = image.resize((64,64))\n",
        "transform = transforms.ToTensor()\n",
        "tens = transform(image)\n",
        "nim = tens.numpy()\n",
        "plt.imshow(nim[0])\n",
        "\n",
        "print('Predicted:',train_ds.classes[predicter(root)])\n"
      ]
    }
  ],
  "metadata": {
    "accelerator": "GPU",
    "colab": {
      "name": "gender_detection_cnn.ipynb",
      "provenance": []
    },
    "interpreter": {
      "hash": "ac59ebe37160ed0dfa835113d9b8498d9f09ceb179beaac4002f036b9467c963"
    },
    "kernelspec": {
      "display_name": "Python 3.9.6 64-bit",
      "name": "python3"
    },
    "language_info": {
      "codemirror_mode": {
        "name": "ipython",
        "version": 3
      },
      "file_extension": ".py",
      "mimetype": "text/x-python",
      "name": "python",
      "nbconvert_exporter": "python",
      "pygments_lexer": "ipython3",
      "version": "3.9.6"
    },
    "orig_nbformat": 4
  },
  "nbformat": 4,
  "nbformat_minor": 0
}
