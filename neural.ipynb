{
 "metadata": {
  "language_info": {
   "codemirror_mode": {
    "name": "ipython",
    "version": 3
   },
   "file_extension": ".py",
   "mimetype": "text/x-python",
   "name": "python",
   "nbconvert_exporter": "python",
   "pygments_lexer": "ipython3",
   "version": "3.9.1"
  },
  "orig_nbformat": 4,
  "kernelspec": {
   "name": "python3",
   "display_name": "Python 3.9.1 64-bit"
  },
  "interpreter": {
   "hash": "6b72c4b06de26b79101181318a6a7e6fdb479ec9eef62118cbd5b66edf6804b4"
  }
 },
 "nbformat": 4,
 "nbformat_minor": 2,
 "cells": [
  {
   "cell_type": "code",
   "execution_count": 53,
   "metadata": {},
   "outputs": [],
   "source": [
    "import torch.nn as nn\n",
    "import torch\n",
    "import numpy as np"
   ]
  },
  {
   "cell_type": "code",
   "execution_count": 54,
   "metadata": {},
   "outputs": [],
   "source": [
    "inputs = np.array([[73, 67, 43], \n",
    "                   [91, 88, 64], \n",
    "                   [87, 134, 58], \n",
    "                   [102, 43, 37], \n",
    "                   [69, 96, 70], \n",
    "                   [74, 66, 43], \n",
    "                   [91, 87, 65], \n",
    "                   [88, 134, 59], \n",
    "                   [101, 44, 37], \n",
    "                   [68, 96, 71], \n",
    "                   [73, 66, 44], \n",
    "                   [92, 87, 64], \n",
    "                   [87, 135, 57], \n",
    "                   [103, 43, 36], \n",
    "                   [68, 97, 70]], \n",
    "                  dtype='float32')"
   ]
  },
  {
   "cell_type": "code",
   "execution_count": 55,
   "metadata": {},
   "outputs": [],
   "source": [
    "targets = np.array([[56, 70], \n",
    "                    [81, 101], \n",
    "                    [119, 133], \n",
    "                    [22, 37], \n",
    "                    [103, 119],\n",
    "                    [57, 69], \n",
    "                    [80, 102], \n",
    "                    [118, 132], \n",
    "                    [21, 38], \n",
    "                    [104, 118], \n",
    "                    [57, 69], \n",
    "                    [82, 100], \n",
    "                    [118, 134], \n",
    "                    [20, 38], \n",
    "                    [102, 120]], \n",
    "                   dtype='float32')"
   ]
  },
  {
   "cell_type": "code",
   "execution_count": 56,
   "metadata": {},
   "outputs": [],
   "source": [
    "inputs = torch.from_numpy(inputs)\n",
    "targets = torch.from_numpy(targets)"
   ]
  },
  {
   "cell_type": "code",
   "execution_count": 57,
   "metadata": {},
   "outputs": [
    {
     "output_type": "execute_result",
     "data": {
      "text/plain": [
       "tensor([[ 73.,  67.,  43.],\n",
       "        [ 91.,  88.,  64.],\n",
       "        [ 87., 134.,  58.],\n",
       "        [102.,  43.,  37.],\n",
       "        [ 69.,  96.,  70.],\n",
       "        [ 74.,  66.,  43.],\n",
       "        [ 91.,  87.,  65.],\n",
       "        [ 88., 134.,  59.],\n",
       "        [101.,  44.,  37.],\n",
       "        [ 68.,  96.,  71.],\n",
       "        [ 73.,  66.,  44.],\n",
       "        [ 92.,  87.,  64.],\n",
       "        [ 87., 135.,  57.],\n",
       "        [103.,  43.,  36.],\n",
       "        [ 68.,  97.,  70.]])"
      ]
     },
     "metadata": {},
     "execution_count": 57
    }
   ],
   "source": [
    "inputs"
   ]
  },
  {
   "cell_type": "code",
   "execution_count": 58,
   "metadata": {},
   "outputs": [],
   "source": [
    "from torch.utils.data import TensorDataset\n"
   ]
  },
  {
   "cell_type": "code",
   "execution_count": 59,
   "metadata": {},
   "outputs": [
    {
     "output_type": "execute_result",
     "data": {
      "text/plain": [
       "(tensor([[ 73.,  67.,  43.],\n",
       "         [ 91.,  88.,  64.],\n",
       "         [ 87., 134.,  58.]]),\n",
       " tensor([[ 56.,  70.],\n",
       "         [ 81., 101.],\n",
       "         [119., 133.]]))"
      ]
     },
     "metadata": {},
     "execution_count": 59
    }
   ],
   "source": [
    "#define dataset\n",
    "train_ds = TensorDataset(inputs, targets)\n",
    "train_ds[0:3]"
   ]
  },
  {
   "cell_type": "code",
   "execution_count": 60,
   "metadata": {},
   "outputs": [],
   "source": [
    "from torch.utils.data import DataLoader"
   ]
  },
  {
   "cell_type": "code",
   "execution_count": 61,
   "metadata": {},
   "outputs": [],
   "source": [
    "batch_size = 5\n",
    "train_dl = DataLoader(train_ds, batch_size, shuffle=True)"
   ]
  },
  {
   "cell_type": "code",
   "execution_count": 62,
   "metadata": {},
   "outputs": [
    {
     "output_type": "stream",
     "name": "stdout",
     "text": [
      "tensor([[ 68.,  96.,  71.],\n        [ 74.,  66.,  43.],\n        [ 87., 134.,  58.],\n        [ 73.,  67.,  43.],\n        [ 69.,  96.,  70.]])\ntensor([[104., 118.],\n        [ 57.,  69.],\n        [119., 133.],\n        [ 56.,  70.],\n        [103., 119.]])\n"
     ]
    }
   ],
   "source": [
    "for xb, yb in train_dl:\n",
    "    print(xb)\n",
    "    print(yb)\n",
    "    break"
   ]
  },
  {
   "cell_type": "code",
   "execution_count": 63,
   "metadata": {},
   "outputs": [
    {
     "output_type": "stream",
     "name": "stdout",
     "text": [
      "Parameter containing:\ntensor([[ 0.5720, -0.0652,  0.1586],\n        [-0.1937,  0.1402,  0.0187]], requires_grad=True)\nParameter containing:\ntensor([0.2074, 0.3568], requires_grad=True)\n"
     ]
    }
   ],
   "source": [
    "model = nn.Linear(3, 2)\n",
    "print(model.weight)\n",
    "print(model.bias)"
   ]
  },
  {
   "cell_type": "code",
   "execution_count": 64,
   "metadata": {},
   "outputs": [
    {
     "output_type": "execute_result",
     "data": {
      "text/plain": [
       "[Parameter containing:\n",
       " tensor([[ 0.5720, -0.0652,  0.1586],\n",
       "         [-0.1937,  0.1402,  0.0187]], requires_grad=True),\n",
       " Parameter containing:\n",
       " tensor([0.2074, 0.3568], requires_grad=True)]"
      ]
     },
     "metadata": {},
     "execution_count": 64
    }
   ],
   "source": [
    "#parameters\n",
    "list(model.parameters())"
   ]
  },
  {
   "cell_type": "code",
   "execution_count": 65,
   "metadata": {},
   "outputs": [
    {
     "output_type": "execute_result",
     "data": {
      "text/plain": [
       "tensor([[ 44.4110,  -3.5864],\n",
       "        [ 56.6676,  -3.7359],\n",
       "        [ 50.4269,   3.3734],\n",
       "        [ 61.6119, -12.6796],\n",
       "        [ 44.5143,   1.7590],\n",
       "        [ 45.0482,  -3.9202],\n",
       "        [ 56.8915,  -3.8573],\n",
       "        [ 51.1575,   3.1985],\n",
       "        [ 60.9747, -12.3457],\n",
       "        [ 44.1010,   1.9714],\n",
       "        [ 44.6349,  -3.7078],\n",
       "        [ 57.3048,  -4.0698],\n",
       "        [ 50.2031,   3.4948],\n",
       "        [ 62.0253, -12.8920],\n",
       "        [ 43.8771,   2.0929]], grad_fn=<AddmmBackward>)"
      ]
     },
     "metadata": {},
     "execution_count": 65
    }
   ],
   "source": [
    "#generate predictions\n",
    "preds = model(inputs)\n",
    "preds"
   ]
  },
  {
   "cell_type": "code",
   "execution_count": 66,
   "metadata": {},
   "outputs": [],
   "source": [
    "#loss function\n",
    "import torch.nn.functional as F\n"
   ]
  },
  {
   "cell_type": "code",
   "execution_count": 67,
   "metadata": {},
   "outputs": [],
   "source": [
    "#define loss func\n",
    "loss_fn = F.mse_loss"
   ]
  },
  {
   "cell_type": "code",
   "execution_count": 68,
   "metadata": {},
   "outputs": [
    {
     "output_type": "stream",
     "name": "stdout",
     "text": [
      "tensor(5980.1514, grad_fn=<MseLossBackward>)\n"
     ]
    }
   ],
   "source": [
    "loss = loss_fn(model(inputs), targets)\n",
    "print(loss)"
   ]
  },
  {
   "cell_type": "code",
   "execution_count": 69,
   "metadata": {},
   "outputs": [],
   "source": [
    "#optimizer for reducing loss\n",
    "opt = torch.optim.SGD(model.parameters(), lr=1e-5)"
   ]
  },
  {
   "source": [
    "#function to train the model"
   ],
   "cell_type": "markdown",
   "metadata": {}
  },
  {
   "cell_type": "code",
   "execution_count": 70,
   "metadata": {},
   "outputs": [],
   "source": [
    "def fit(num_epochs, model, loss_fn, opt, train_dl):\n",
    "    \n",
    "    #repeat for given num of epochs\n",
    "    for epoch in range(num_epochs):\n",
    "\n",
    "        #train eith batches\n",
    "        for xb, yb in train_dl:\n",
    "\n",
    "            #generate pred\n",
    "            pred = model(xb)\n",
    "            #calculate loss\n",
    "            loss = loss_fn(pred, yb)\n",
    "            #compute grads\n",
    "            loss.backward()\n",
    "            #update params\n",
    "            opt.step()\n",
    "            #reset\n",
    "            opt.zero_grad()\n",
    "        if(epoch+1)%10 ==0:\n",
    "            print('Epoch [{}/{}], loss:{:.4f}'.format(epoch+1, num_epochs, loss.item()))\n",
    "\n",
    "\n"
   ]
  },
  {
   "cell_type": "code",
   "execution_count": 71,
   "metadata": {},
   "outputs": [
    {
     "output_type": "stream",
     "name": "stdout",
     "text": [
      "Epoch [10/1000], loss:187.5248\n",
      "Epoch [20/1000], loss:386.3076\n",
      "Epoch [30/1000], loss:157.4374\n",
      "Epoch [40/1000], loss:194.2688\n",
      "Epoch [50/1000], loss:48.1316\n",
      "Epoch [60/1000], loss:65.0690\n",
      "Epoch [70/1000], loss:97.0144\n",
      "Epoch [80/1000], loss:40.5357\n",
      "Epoch [90/1000], loss:22.2931\n",
      "Epoch [100/1000], loss:30.8861\n",
      "Epoch [110/1000], loss:26.8448\n",
      "Epoch [120/1000], loss:19.6711\n",
      "Epoch [130/1000], loss:17.0721\n",
      "Epoch [140/1000], loss:15.8594\n",
      "Epoch [150/1000], loss:22.0430\n",
      "Epoch [160/1000], loss:13.1338\n",
      "Epoch [170/1000], loss:8.1241\n",
      "Epoch [180/1000], loss:12.5732\n",
      "Epoch [190/1000], loss:6.8497\n",
      "Epoch [200/1000], loss:6.4336\n",
      "Epoch [210/1000], loss:6.7053\n",
      "Epoch [220/1000], loss:12.2080\n",
      "Epoch [230/1000], loss:5.0378\n",
      "Epoch [240/1000], loss:7.0024\n",
      "Epoch [250/1000], loss:3.6916\n",
      "Epoch [260/1000], loss:6.2312\n",
      "Epoch [270/1000], loss:4.0334\n",
      "Epoch [280/1000], loss:10.2790\n",
      "Epoch [290/1000], loss:3.5964\n",
      "Epoch [300/1000], loss:1.8095\n",
      "Epoch [310/1000], loss:2.9698\n",
      "Epoch [320/1000], loss:4.7609\n",
      "Epoch [330/1000], loss:4.3267\n",
      "Epoch [340/1000], loss:3.0171\n",
      "Epoch [350/1000], loss:3.7088\n",
      "Epoch [360/1000], loss:2.5746\n",
      "Epoch [370/1000], loss:3.8052\n",
      "Epoch [380/1000], loss:5.3913\n",
      "Epoch [390/1000], loss:1.7871\n",
      "Epoch [400/1000], loss:2.2010\n",
      "Epoch [410/1000], loss:2.2983\n",
      "Epoch [420/1000], loss:4.5570\n",
      "Epoch [430/1000], loss:3.1236\n",
      "Epoch [440/1000], loss:4.6197\n",
      "Epoch [450/1000], loss:3.0806\n",
      "Epoch [460/1000], loss:3.1535\n",
      "Epoch [470/1000], loss:2.0809\n",
      "Epoch [480/1000], loss:2.7303\n",
      "Epoch [490/1000], loss:1.6017\n",
      "Epoch [500/1000], loss:2.9092\n",
      "Epoch [510/1000], loss:3.6859\n",
      "Epoch [520/1000], loss:1.7253\n",
      "Epoch [530/1000], loss:2.2107\n",
      "Epoch [540/1000], loss:1.1800\n",
      "Epoch [550/1000], loss:2.8348\n",
      "Epoch [560/1000], loss:2.1409\n",
      "Epoch [570/1000], loss:1.7509\n",
      "Epoch [580/1000], loss:2.4716\n",
      "Epoch [590/1000], loss:1.2528\n",
      "Epoch [600/1000], loss:0.9698\n",
      "Epoch [610/1000], loss:1.3118\n",
      "Epoch [620/1000], loss:1.0061\n",
      "Epoch [630/1000], loss:1.8793\n",
      "Epoch [640/1000], loss:1.3970\n",
      "Epoch [650/1000], loss:1.9491\n",
      "Epoch [660/1000], loss:0.8139\n",
      "Epoch [670/1000], loss:1.3842\n",
      "Epoch [680/1000], loss:1.8435\n",
      "Epoch [690/1000], loss:1.8630\n",
      "Epoch [700/1000], loss:1.6425\n",
      "Epoch [710/1000], loss:1.2302\n",
      "Epoch [720/1000], loss:0.9113\n",
      "Epoch [730/1000], loss:1.4289\n",
      "Epoch [740/1000], loss:1.5594\n",
      "Epoch [750/1000], loss:1.7012\n",
      "Epoch [760/1000], loss:1.4183\n",
      "Epoch [770/1000], loss:1.2699\n",
      "Epoch [780/1000], loss:1.2004\n",
      "Epoch [790/1000], loss:1.5320\n",
      "Epoch [800/1000], loss:0.8386\n",
      "Epoch [810/1000], loss:1.1603\n",
      "Epoch [820/1000], loss:1.1754\n",
      "Epoch [830/1000], loss:0.9306\n",
      "Epoch [840/1000], loss:0.9694\n",
      "Epoch [850/1000], loss:1.7262\n",
      "Epoch [860/1000], loss:1.1153\n",
      "Epoch [870/1000], loss:1.4068\n",
      "Epoch [880/1000], loss:1.2201\n",
      "Epoch [890/1000], loss:0.9317\n",
      "Epoch [900/1000], loss:1.2262\n",
      "Epoch [910/1000], loss:1.5982\n",
      "Epoch [920/1000], loss:1.4254\n",
      "Epoch [930/1000], loss:1.1940\n",
      "Epoch [940/1000], loss:0.7197\n",
      "Epoch [950/1000], loss:1.4959\n",
      "Epoch [960/1000], loss:0.8880\n",
      "Epoch [970/1000], loss:1.2797\n",
      "Epoch [980/1000], loss:0.8611\n",
      "Epoch [990/1000], loss:0.6178\n",
      "Epoch [1000/1000], loss:1.0655\n"
     ]
    }
   ],
   "source": [
    "fit(1000, model, loss_fn, opt, train_dl)"
   ]
  },
  {
   "cell_type": "code",
   "execution_count": 72,
   "metadata": {},
   "outputs": [
    {
     "output_type": "execute_result",
     "data": {
      "text/plain": [
       "tensor([[ 57.0249,  70.5084],\n",
       "        [ 81.9255, 100.3478],\n",
       "        [118.4761, 133.2391],\n",
       "        [ 20.9098,  37.8835],\n",
       "        [101.6495, 118.1510],\n",
       "        [ 55.7743,  69.4230],\n",
       "        [ 81.7587, 100.4056],\n",
       "        [118.7559, 133.8170],\n",
       "        [ 22.1604,  38.9689],\n",
       "        [102.7333, 119.2942],\n",
       "        [ 56.8582,  70.5662],\n",
       "        [ 80.6749,  99.2625],\n",
       "        [118.6429, 133.1813],\n",
       "        [ 19.8260,  36.7403],\n",
       "        [102.9001, 119.2364]], grad_fn=<AddmmBackward>)"
      ]
     },
     "metadata": {},
     "execution_count": 72
    }
   ],
   "source": [
    "preds = model(inputs)\n",
    "preds"
   ]
  },
  {
   "cell_type": "code",
   "execution_count": 73,
   "metadata": {},
   "outputs": [
    {
     "output_type": "execute_result",
     "data": {
      "text/plain": [
       "tensor([[ 56.,  70.],\n",
       "        [ 81., 101.],\n",
       "        [119., 133.],\n",
       "        [ 22.,  37.],\n",
       "        [103., 119.],\n",
       "        [ 57.,  69.],\n",
       "        [ 80., 102.],\n",
       "        [118., 132.],\n",
       "        [ 21.,  38.],\n",
       "        [104., 118.],\n",
       "        [ 57.,  69.],\n",
       "        [ 82., 100.],\n",
       "        [118., 134.],\n",
       "        [ 20.,  38.],\n",
       "        [102., 120.]])"
      ]
     },
     "metadata": {},
     "execution_count": 73
    }
   ],
   "source": [
    "targets"
   ]
  },
  {
   "cell_type": "code",
   "execution_count": 74,
   "metadata": {},
   "outputs": [
    {
     "output_type": "execute_result",
     "data": {
      "text/plain": [
       "tensor([[53.5084, 67.5928]], grad_fn=<AddmmBackward>)"
      ]
     },
     "metadata": {},
     "execution_count": 74
    }
   ],
   "source": [
    "model(torch.tensor([[75,63,44.]]))"
   ]
  },
  {
   "cell_type": "code",
   "execution_count": null,
   "metadata": {},
   "outputs": [],
   "source": []
  }
 ]
}